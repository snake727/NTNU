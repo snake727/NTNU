{
 "cells": [
  {
   "cell_type": "markdown",
   "metadata": {
    "deletable": false,
    "run_control": {
     "frozen": true
    }
   },
   "source": [
    "# Gjettelek\n",
    "\n",
    "**Læringsmål:**\n",
    "\n",
    "* Løkker\n",
    "* Betingelser\n",
    "* Innebygde funksjoner\n",
    "\n",
    "\n",
    "I denne oppgaven skal du lage en funnksjon som genererer et tilfeldig heltall i et gitt intervall, og deretter lar brukeren gjette på hvilket tall dette er. Dette bør gjøres ved bruk av løkker. Hele funksjonen skrives i ett kodevindu, altså under deloppgave a).\n",
    "\n",
    "\n",
    "\n",
    "I denne oppgaven må du benytte deg av biblioteket random. Derfor skal koden din starte med `import random`. \n",
    "Eksempel på bruk av random.randint()\n",
    "\n",
    "```python\n",
    "tilfeldigTall = random.randint(1,50)    #gir deg et tilfeldig tall fra og med 1, til og med 50\n",
    "tall = random.randint(a,b)              #gir deg et tilfeldig tall mellom a og b. (Fra og med a, til og med b)\n",
    "```\n",
    "\n"
   ]
  },
  {
   "cell_type": "markdown",
   "metadata": {
    "deletable": false,
    "editable": false,
    "run_control": {
     "frozen": true
    }
   },
   "source": [
    "## Oppgave a: obligatorisk\n",
    "Be brukeren om å velge en nedre og en øvre grense for tall han eller hun skal gjette på. Lagre disse to opplysningene i to variabler.\n",
    "\n",
    "***Skriv koden din her:***"
   ]
  },
  {
   "cell_type": "code",
   "execution_count": 8,
   "metadata": {
    "ExecuteTime": {
     "end_time": "2019-07-02T14:02:57.358551Z",
     "start_time": "2019-07-02T14:02:57.352636Z"
    }
   },
   "outputs": [
    {
     "name": "stdout",
     "output_type": "stream",
     "text": [
      "You guessed the number!\n"
     ]
    }
   ],
   "source": [
    "import random\n",
    "\n",
    "def guessNumber(lower, upper):\n",
    "    number = random.randint(lower, upper)\n",
    "    guess = int(input(f\"Guess a number between {lower} and {upper}: \"))\n",
    "    while guess != number:\n",
    "        if guess < number:\n",
    "            guess = int(input(\"Too low, try again: \"))\n",
    "        else:\n",
    "            guess = int(input(\"Too high, try again: \"))\n",
    "    print(\"You guessed the number!\")\n",
    "\n",
    "lower, upper = int(input(\"Enter lower number limit: \")), int(input(\"Enter upper number limit: \"))\n",
    "guessNumber(lower,upper)"
   ]
  },
  {
   "cell_type": "markdown",
   "metadata": {
    "deletable": false,
    "run_control": {
     "frozen": true
    }
   },
   "source": [
    "## Oppgave b: frivillig\n",
    "Lag en funksjon, *gjettelek(a,b)* som tar inn verdiene i deloppgave a). Lag så en variabel tilfeldigTall i som genererer et tilfeldig tall i intervallet mellom den øvre og den nedre grensen som brukeren har satt. Fortsett å skriv i samme felt som i oppgave a."
   ]
  },
  {
   "cell_type": "markdown",
   "metadata": {
    "deletable": false,
    "run_control": {
     "frozen": true
    }
   },
   "source": [
    "## Oppgave c: frivillig\n",
    "Skriv en while-løkke som kjører så lenge brukeren ikke har gjettet riktig svar. Brukeren skal få tilbakemelding for hvert gjett om han eller hun gjettet for lavt, for høyt eller riktig. Fortsett å skriv i samme felt som i oppgave a og b.\n",
    "\n",
    "Eksempel på kjøring:\n",
    "```python\n",
    "Gi en nedre grense for det tilfeldige tallet: 1\n",
    "Gi en øvre grense for det tilfeldige tallet: 100\n",
    "Make a guess 50\n",
    "The correct number is lower\n",
    "Make a guess 25\n",
    "The correct Number is higher\n",
    "Make a guess 37\n",
    "The correct number is lower\n",
    "Make a guess 32\n",
    "You guessed correct!```"
   ]
  },
  {
   "cell_type": "code",
   "execution_count": null,
   "metadata": {},
   "outputs": [],
   "source": []
  }
 ],
 "metadata": {
  "celltoolbar": "Edit Metadata",
  "kernelspec": {
   "display_name": "Python 3",
   "language": "python",
   "name": "python3"
  },
  "language_info": {
   "codemirror_mode": {
    "name": "ipython",
    "version": 3
   },
   "file_extension": ".py",
   "mimetype": "text/x-python",
   "name": "python",
   "nbconvert_exporter": "python",
   "pygments_lexer": "ipython3",
   "version": "3.11.4"
  },
  "toc": {
   "base_numbering": 1,
   "nav_menu": {},
   "number_sections": false,
   "sideBar": true,
   "skip_h1_title": false,
   "title_cell": "Table of Contents",
   "title_sidebar": "Contents",
   "toc_cell": false,
   "toc_position": {},
   "toc_section_display": true,
   "toc_window_display": false
  }
 },
 "nbformat": 4,
 "nbformat_minor": 2
}
