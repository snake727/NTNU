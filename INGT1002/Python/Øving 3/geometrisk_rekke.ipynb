{
 "cells": [
  {
   "cell_type": "markdown",
   "metadata": {
    "deletable": false,
    "run_control": {
     "frozen": true
    }
   },
   "source": [
    "# Geometrisk rekke\n",
    "\n",
    "**Læringsmål:**\n",
    "\n",
    "* Løkker\n",
    "\n",
    "\n",
    "En geometrisk rekke er en sum som kan skrives på formen under: \n",
    "\n",
    "$\\sum_{i=0}^{n}r_i=r^0+r^1+r^2+r^3+\\cdot \\cdot \\cdot +r^n$ \n",
    "\n",
    "Et uttrykk for summen av en slik rekke er gitt ved $s_n = \\frac{1 - r^n}{1 - r}$. Dere kan lese mer om Geometriske rekker [her](https://no.wikipedia.org/wiki/Geometrisk_rekke), og se utledningen for $s_n$ [her](https://www.purplemath.com/modules/series7.htm)\n",
    "\n",
    "Merk at $s_n$ går mot $\\frac{1}{1 -r}$ for  $r \\in (-1,1)$ når n går mot uendelig.    "
   ]
  },
  {
   "cell_type": "markdown",
   "metadata": {
    "deletable": false,
    "editable": false,
    "run_control": {
     "frozen": true
    }
   },
   "source": [
    "## Oppgave a: obligatorisk"
   ]
  },
  {
   "cell_type": "markdown",
   "metadata": {
    "deletable": false,
    "run_control": {
     "frozen": true
    }
   },
   "source": [
    "Lag en funksjon som summerer en geometrisk rekke fra 0 til n ved hjelp av en for-løkke.\n",
    "\n",
    "Sjekk: r = 0.5 og n = 4 skal gi sum = 1.9375\n",
    "\n",
    "***Skriv koden din her:***"
   ]
  },
  {
   "cell_type": "code",
   "execution_count": 81,
   "metadata": {
    "ExecuteTime": {
     "end_time": "2019-07-02T14:25:12.748347Z",
     "start_time": "2019-07-02T14:25:12.737936Z"
    }
   },
   "outputs": [
    {
     "data": {
      "text/plain": [
       "1.99951171875"
      ]
     },
     "execution_count": 81,
     "metadata": {},
     "output_type": "execute_result"
    }
   ],
   "source": [
    "def geometricalRowSum(r, n):\n",
    "    result = 0\n",
    "    for i in range(n+1):\n",
    "        result += r**i\n",
    "    return result\n",
    "\n",
    "geometricalRowSum(0.5,4)"
   ]
  },
  {
   "cell_type": "markdown",
   "metadata": {
    "deletable": false,
    "editable": false,
    "run_control": {
     "frozen": true
    }
   },
   "source": [
    "## Oppgave b: obligatorisk"
   ]
  },
  {
   "cell_type": "markdown",
   "metadata": {
    "deletable": false,
    "run_control": {
     "frozen": true
    }
   },
   "source": [
    " \n",
    "\n",
    "Skriv om funksjonen (og bruk en annen løkke) slik at løkken avsluttes når din sum er innenfor en toleranse tol til grenseverdien av summen (verdien til summen når n går mot uendelig; se hint).\n",
    "\n",
    "\n",
    "Oppgave b) og c) kan gjøres i et kodevindu. Et eksempel som viser kjøring av alle oppgavene er vist under.\n",
    "\n",
    "Test dette med tol = 0.001, r = 1/2, som vist i eksempelet til slutt."
   ]
  },
  {
   "cell_type": "code",
   "execution_count": 79,
   "metadata": {},
   "outputs": [
    {
     "data": {
      "text/plain": [
       "1.9999923706054688"
      ]
     },
     "execution_count": 79,
     "metadata": {},
     "output_type": "execute_result"
    }
   ],
   "source": [
    "def geometricalRowSumWithTol(r, tol):\n",
    "    result = 0\n",
    "    i = 0\n",
    "    while True:\n",
    "        term = r**i\n",
    "        result += term\n",
    "        i += 1\n",
    "        if term < tol:\n",
    "            break\n",
    "    return result\n",
    "\n",
    "geometricalRowSumWithTol(0.5, 1e-5)"
   ]
  },
  {
   "cell_type": "markdown",
   "metadata": {
    "deletable": false,
    "hidden": true,
    "run_control": {
     "frozen": true
    }
   },
   "source": [
    "**Hint**:\n",
    "Summen til en geometrisk rekke er som nevnt $\\frac{1-r^{n+1}}{1-r}$\n",
    ". For rekken i b) blir grenseverdien $\\frac{1}{1-r}$ = 2."
   ]
  },
  {
   "cell_type": "markdown",
   "metadata": {},
   "source": [
    "## Oppgave c: frivillig"
   ]
  },
  {
   "cell_type": "markdown",
   "metadata": {
    "deletable": false,
    "editable": false,
    "run_control": {
     "frozen": true
    }
   },
   "source": [
    "La programmet gi ut antall iterasjoner som trengs for å være innenfor toleransen. Gi også ut den virkelige differansen mellom summen du fant og grenseverdien."
   ]
  },
  {
   "cell_type": "markdown",
   "metadata": {
    "deletable": false,
    "hidden": true,
    "run_control": {
     "frozen": true
    }
   },
   "source": [
    "### Eksempel\n",
    "\n",
    "Eksempel på kjøring av kode a, b, og c:\n",
    "```\n",
    "#a)\n",
    "geometrisk_rekke(0.5,4)\n",
    "1.9375  \n",
    "#b&c)  \n",
    "(11, 0.0009765625)\n",
    "```\n",
    "I b) og c) representerer 11 antall ganger løkken kjører og 0.0009765625 differansen mellom den faktiske summen og den approksimerte summen. "
   ]
  },
  {
   "cell_type": "code",
   "execution_count": 85,
   "metadata": {},
   "outputs": [
    {
     "data": {
      "text/plain": [
       "(11, 1.9990234375, 0.00048828125)"
      ]
     },
     "execution_count": 85,
     "metadata": {},
     "output_type": "execute_result"
    }
   ],
   "source": [
    "def geometricalRowSum(r, n):\n",
    "    result = 0\n",
    "    for i in range(n+1):\n",
    "        result += r**i\n",
    "    return result\n",
    "\n",
    "def geometricalRowSumWithTol(r, tol):\n",
    "    result = 0\n",
    "    i = 0\n",
    "    while True:\n",
    "        term = r**i\n",
    "        result += term\n",
    "        i += 1\n",
    "        if term < tol:\n",
    "            break\n",
    "    return i, result, geometricalRowSum(r, i) - result\n",
    "\n",
    "geometricalRowSumWithTol(0.5, 0.001)"
   ]
  }
 ],
 "metadata": {
  "celltoolbar": "Edit Metadata",
  "kernelspec": {
   "display_name": "Python 3",
   "language": "python",
   "name": "python3"
  },
  "language_info": {
   "codemirror_mode": {
    "name": "ipython",
    "version": 3
   },
   "file_extension": ".py",
   "mimetype": "text/x-python",
   "name": "python",
   "nbconvert_exporter": "python",
   "pygments_lexer": "ipython3",
   "version": "3.7.4"
  },
  "toc": {
   "base_numbering": 1,
   "nav_menu": {},
   "number_sections": false,
   "sideBar": true,
   "skip_h1_title": false,
   "title_cell": "Table of Contents",
   "title_sidebar": "Contents",
   "toc_cell": false,
   "toc_position": {},
   "toc_section_display": true,
   "toc_window_display": false
  }
 },
 "nbformat": 4,
 "nbformat_minor": 2
}
