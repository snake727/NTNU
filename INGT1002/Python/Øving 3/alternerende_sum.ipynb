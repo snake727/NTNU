{
 "cells": [
  {
   "cell_type": "markdown",
   "metadata": {
    "deletable": false,
    "run_control": {
     "frozen": true
    }
   },
   "source": [
    "# Alternerende sum\n",
    "\n",
    "**Læringsmål:**\n",
    "\n",
    "* Løkker\n",
    "\n",
    "I denne oppgaven skal du ved hjelp av løkker summere sammen tall, basert på brukerinput. "
   ]
  },
  {
   "cell_type": "markdown",
   "metadata": {
    "deletable": false,
    "run_control": {
     "frozen": true
    }
   },
   "source": [
    "## Oppgave a: obligatorisk\n",
    "Skriv en funksjon som leser tar inn et heltall n fra bruker og legger sammen tallserien under.\n",
    "\n",
    "**$1^{2}-2^{2}+3^{2}-4^{2}+5^{2}-\\cdot \\cdot \\cdot \\pm n^{2}$**\n",
    "\n",
    "Legg merke til at alle partallene har negativt fortegn og alle oddetallene har positivt fortegn. Husk at navnet på variabelen din ***ikke*** kan være **sum**, ettersom dette er navnet på en funksjon i python. Husk også at range() bare går til et tall og ikke til og med.\n",
    "\n",
    "Eksempel på kjøring:\n",
    "```python\n",
    "alternerende_sum(7)\n",
    "Out: 28\n",
    "```\n",
    "\n",
    "***Skriv koden din her:***"
   ]
  },
  {
   "cell_type": "code",
   "execution_count": 19,
   "metadata": {
    "ExecuteTime": {
     "end_time": "2019-07-03T06:12:01.940513Z",
     "start_time": "2019-07-03T06:12:01.928036Z"
    }
   },
   "outputs": [
    {
     "data": {
      "text/plain": [
       "28"
      ]
     },
     "execution_count": 19,
     "metadata": {},
     "output_type": "execute_result"
    }
   ],
   "source": [
    "def alternatingSum(n):\n",
    "    result = 0\n",
    "    for i in range(1, n+1):\n",
    "        if i % 2 == 0:\n",
    "            result -= i ** 2\n",
    "        else:\n",
    "            result += i ** 2\n",
    "    return result\n",
    "        \n",
    "\n",
    "alternatingSum(7)"
   ]
  },
  {
   "cell_type": "markdown",
   "metadata": {
    "deletable": false,
    "run_control": {
     "frozen": true
    }
   },
   "source": [
    "## Oppgave b: frivillig\n",
    "Skriv en ny funksjon som avslutter iterasjonen **før** summen av tallene er større enn det positive heltallet k. Dette vil si at resultatet som returneres er summen av leddene som ikke overskrider. \n",
    "\n",
    "Hold styr på hvor mange ledd fra tallserien som er brukt i summen og returner dette samtidig.\n",
    "\n",
    "Eksempel på kjøring:\n",
    "\n",
    "```python\n",
    "alternerende_sum_2(6)\n",
    "Out: (-10, 4)\n",
    "```\n",
    "```python\n",
    "alternerende_sum_2(12)\n",
    "Out: (-10, 4)\n",
    "```\n",
    "```python\n",
    "alternerende_sum_2(15)\n",
    "Out: (-21, 6)\n",
    "```\n",
    "\n",
    "***Skriv koden din her:***"
   ]
  },
  {
   "cell_type": "code",
   "execution_count": null,
   "metadata": {},
   "outputs": [],
   "source": []
  }
 ],
 "metadata": {
  "celltoolbar": "Edit Metadata",
  "kernelspec": {
   "display_name": "Python 3",
   "language": "python",
   "name": "python3"
  },
  "language_info": {
   "codemirror_mode": {
    "name": "ipython",
    "version": 3
   },
   "file_extension": ".py",
   "mimetype": "text/x-python",
   "name": "python",
   "nbconvert_exporter": "python",
   "pygments_lexer": "ipython3",
   "version": "3.11.4"
  },
  "toc": {
   "base_numbering": 1,
   "nav_menu": {},
   "number_sections": false,
   "sideBar": true,
   "skip_h1_title": false,
   "title_cell": "Table of Contents",
   "title_sidebar": "Contents",
   "toc_cell": false,
   "toc_position": {},
   "toc_section_display": true,
   "toc_window_display": false
  }
 },
 "nbformat": 4,
 "nbformat_minor": 2
}
