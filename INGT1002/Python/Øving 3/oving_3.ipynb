{
    "cells": [
        {
            "cell_type": "markdown",
            "metadata": {
                "deletable": false,
                "editable": false,
                "run_control": {
                    "frozen": true
                }
            },
            "source": [
                "# Øving 3\n",
                "\n",
                "**Læringsmål:**\n",
                "\n",
                "* Løkker\n",
                "* Betingelser\n",
                "* Strenger\n",
                " \n",
                "\n",
                "## Godkjenning:\n",
                "\n",
                "For å få godkjent øvingen må du gjøre obligatoriske oppgavene i [introduksjon til løkker](intro_til_lokker.ipynb), [nøstede løkker](nostede_lokker.ipynb), [gjett tallet](gjett_tallet.ipynb), [alterende sum](alternerende_sum.ipynb), og [geometrisk rekke](geometrisk_rekke.ipynb).\n",
                "\n",
                "## Oppgaver\n",
                "\n",
                "- [Introduksjon til løkker](intro_til_lokker.ipynb)\n",
                "- [Nøstede løkker](nostede_lokker.ipynb)\n",
                "- [Gjett tallet](gjett_tallet.ipynb)\n",
                "- [Alterende sum](alternerende_sum.ipynb)\n",
                "- [Fibonacci](fibonacci.ipynb)\n",
                "- [Geometrisk rekke](geometrisk_rekke.ipynb)\n",
                "- [Hangman](hangman.ipynb)"
            ]
        }
    ],
    "metadata": {
        "celltoolbar": "Edit Metadata",
        "kernelspec": {
            "display_name": "Python 3",
            "language": "python",
            "name": "python3"
        },
        "language_info": {
            "codemirror_mode": {
                "name": "ipython",
                "version": 3
            },
            "file_extension": ".py",
            "mimetype": "text/x-python",
            "name": "python",
            "nbconvert_exporter": "python",
            "pygments_lexer": "ipython3",
            "version": "3.7.4"
        },
        "toc": {
            "base_numbering": 1,
            "nav_menu": {},
            "number_sections": false,
            "sideBar": true,
            "skip_h1_title": false,
            "title_cell": "Table of Contents",
            "title_sidebar": "Contents",
            "toc_cell": false,
            "toc_position": {},
            "toc_section_display": true,
            "toc_window_display": false
        }
    },
    "nbformat": 4,
    "nbformat_minor": 2
}
