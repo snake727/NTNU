{
  "cells": [
    {
      "cell_type": "markdown",
      "metadata": {
        "run_control": {
          "frozen": true
        }
      },
      "source": [
        "# Variable\n",
        "\n",
        "**Læringsmål:**\n",
        "\n",
        "* Enkel bruk av variable\n",
        "\n",
        "* Korrekt navngivning av variable"
      ]
    },
    {
      "cell_type": "markdown",
      "metadata": {
        "heading_collapsed": true,
        "run_control": {
          "frozen": true
        }
      },
      "source": [
        "## Tutorial del 1: variable - grunnleggende intro"
      ]
    },
    {
      "cell_type": "markdown",
      "metadata": {
        "hidden": true,
        "run_control": {
          "frozen": true
        }
      },
      "source": [
        "Hvorfor trenger vi variable? Poenget med variable er å **huske data underveis** i utførelsen av et program.\n",
        "\n",
        "Variable er derfor et sentralt konsept i programmering, ikke bare i Python men uansett hva slags språk man programmerer i.\n",
        "\n",
        "Uten variable støter vi fort på en rekke problemer fordi programmet vårt ikke kan huske noe, f.eks. at\n",
        "\n",
        "* vi må be brukeren gi inn opplysninger på nytt som brukeren har gitt tidligere\n",
        "* vi må regne ut på nytt data vi allerede har regnet ut tidligere\n",
        "\n",
        "Dette sløser tid og strøm og vil i mange tilfeller gjøre programmet fullstendig ubrukelig.\n",
        "\n",
        "I det lille eksempelprogrammet under, klarer vi oss uten noen variabel, fordi navnet som skrives utkun blir benyttet én gang.\n",
        "\n",
        "  \n",
        "```python \n",
        "print('Pi, med seks desimaler er 3.141592') \n",
        "```\n",
        "\n",
        "  \n",
        "```\n",
        "Pi, med seks desimaler er 3.141592\n",
        ">>>>\n",
        "```\n",
        "\n",
        "Men ofte skal samme data brukes flere ganger, og etter at vi har gjort andre ting i mellomtiden. Da må data huskes i variable. Anta at vi ønsker en bare litt mer avansert dialog.\n",
        "\n",
        " \n",
        "```\n",
        "Pi, med seks desimaler er 3.141592  \n",
        "3.141592 er pi, avrundet til seks desimaler.\n",
        ">>>>\n",
        "```\n",
        "\n",
        "Her vil vi bruke verdien til pi i to påfølgende print-setninger. Hvis vi prøver samme triks som tidligere med å sette tallet direkte i print-setning, får vi koden:\n",
        "\n",
        " \n",
        "```python\n",
        "print('Pi, med seks desimaler er 3.141592')\n",
        "print('3.141592 er pi, avrundet til seks desimaler.') \n",
        "```\n",
        "\n",
        "\n",
        "```\n",
        "Pi, med seks desimaler er 3.141592\n",
        "3.141592 er Pi, avrundet til seks desimaler.\n",
        "```\n",
        "\n",
        "Ikke noe katastrofalt problem her, men tenk deg et program hvor samme opplysning skal brukes 100 ganger eller mer i en kritisk arbeidsoppgave som haster. Da kan det bli tungvindt å for eksempel skrive 3.141592 100 ganger.\n",
        "\n",
        "Kan vi løse det på en bedre måte? JA - med en variabel for å huske navnet. Koden blir da"
      ]
    },
    {
      "cell_type": "code",
      "execution_count": 1,
      "metadata": {
        "hidden": true
      },
      "outputs": [
        {
          "name": "stdout",
          "output_type": "stream",
          "text": [
            "Pi, med seks desimaler er 3.141592\n",
            "3.141592 er pi, avrundet til seks desimaler\n"
          ]
        }
      ],
      "source": [
        "pi = 3.141592\n",
        "print(f'Pi, med seks desimaler er {pi}')\n",
        "print(f'{pi} er pi, avrundet til seks desimaler')"
      ]
    },
    {
      "cell_type": "markdown",
      "metadata": {
        "hidden": true,
        "run_control": {
          "frozen": true
        }
      },
      "source": [
        "Dette programmet kan forklares som følger:\n",
        "\n",
        "* linje 1, til høyre for `=` : verdien vi ønsker å lagre (3.141592)\n",
        "* linje 1, til venstre for `=`: oppretter en variabel som heter `pi`.\n",
        "* linje 1, tegnet `=`. Dette er **tilordningsoperatoren**. Betyr at verdien av uttrykket på høyre side, verdien 3.141592, blir husket i variabelen kalt `pi`.\n",
        "* linje 2, variabelen `pi` brukes sist i f-strengen i print-setningen. Merk at variabelnavnet **ikke** skal ha fnutter rundt seg. Med fnuttter ville ikke akkurat dette programmet kjørt. Ordet pi som står som det tredje ordet i setningen \"{pi} er pi, avrundet til seks desimaler\" er ikke variabelen, her er ordet navn bare del av en tekststreng.\n",
        "* linje 3, variabelen `pi` brukes fremst i print-setningen. Igjen uten fnutter; det er ikke ordet pi vi ønsker å skrive, men den verdien som variabelen `pi` inneholder (f.eks. 3.141592)\n",
        "\n",
        "Ved hjelp av variabelen som her ble kalt pi, unngår vi å måtte skrive ut verdien to ganger. Vi skriver den bare én gang, i starten av programmet, og husker da opplysningen ved å putte den inn i en variabel.\n",
        "\n",
        "Videre i programmet kan vi benytte denne variabelen hver gang vi trenger verdien - enten det som her var bare to ganger, eller om det hadde vært flere.\n",
        "\n"
      ]
    },
    {
      "cell_type": "markdown",
      "metadata": {
        "heading_collapsed": true,
        "hidden": true
      },
      "source": [
        "### Rask intro til f-strenger"
      ]
    },
    {
      "cell_type": "markdown",
      "metadata": {
        "hidden": true
      },
      "source": [
        "F-strenger, som brukt i print-setningenge ovenfor, er lett å gjenkjenne ved at strengen starter med en \"f\" før fnuttene. F-en står for \"format\". F-strings gjør det veldig lett for oss å formatere strengene våre. Som du ser i eksempelet over inneholder strengen noen krøllparenteser (`{}`). Innimellom disse krøllparentesene er vi ikke lenger inne i strengen, og at vi skriver inne i disse er \"vanlig\" Python kode. I eksempelet over settes variabelen `pi` inn i disse krøllparentesene. Dette gjøres slik at verdien variabelen `pi` inneholder kan bli satt inn i strengen. Som sagt er det \"vanlig\" Python kode som skrives inne i disse krøllparentesene. Vi kan for eksempel gjøre matteoperasjoner i de:"
      ]
    },
    {
      "cell_type": "code",
      "execution_count": 2,
      "metadata": {
        "hidden": true
      },
      "outputs": [
        {
          "name": "stdout",
          "output_type": "stream",
          "text": [
            "1 + 1 = 2\n",
            "2 * 2 = 4\n"
          ]
        }
      ],
      "source": [
        "print(f'1 + 1 = {1 + 1}')\n",
        "print(f'2 * 2 = {2 * 2}') # Her er det noe feil. Kan du fikse opp?"
      ]
    },
    {
      "cell_type": "markdown",
      "metadata": {
        "heading_collapsed": true,
        "run_control": {
          "frozen": true
        }
      },
      "source": [
        "##  Oppgave a: obligatorisk\n",
        "Huske verdier i variable"
      ]
    },
    {
      "cell_type": "markdown",
      "metadata": {
        "hidden": true,
        "run_control": {
          "frozen": true
        }
      },
      "source": [
        "Kjør koden under for å se hvordan den virker. Som du vil se, skriver den ut \"Ada\" to ganger, og \"ITGK\" to ganger.\n",
        "\n",
        "Forbedre koden ved å introdusere en variabel for navn og en annen variabel for favorittfag, slik at vi slipper å skrive \"Ada\" og \"ITGK\" mer enn én gang.\n",
        "\n",
        "Hvis du er i tvil om hvordan du skal angripe problemet, se lignende eksempel i tutorial like over."
      ]
    },
    {
      "cell_type": "code",
      "execution_count": 3,
      "metadata": {
        "hidden": true
      },
      "outputs": [
        {
          "name": "stdout",
          "output_type": "stream",
          "text": [
            "Hei, Ada\n",
            "ITGK - interessant!\n",
            "Ha en fin dag, Ada\n",
            "- og lykke til med ITGK\n"
          ]
        }
      ],
      "source": [
        "print('Hei, Ada')\n",
        "print('ITGK - interessant!')\n",
        "print('Ha en fin dag, Ada')\n",
        "print('- og lykke til med ITGK')"
      ]
    },
    {
      "cell_type": "markdown",
      "metadata": {
        "deletable": false,
        "editable": false,
        "hidden": true,
        "run_control": {
          "frozen": true
        }
      },
      "source": [
        "Hvis du får til å bruke de to variablene som tenkt, skal kjøringen av det forbedrede programmet se slik ut (men også funke om brukeren skriver inn noe annet enn Ada på spørsmålet Navn? og noe annet enn ITGK på Favorittfag?)\n",
        "\n",
        "```\n",
        "Navn? Ada  \n",
        "Hei, Ada  \n",
        "Favorittfag? ITGK  \n",
        "ITGK - interessant!  \n",
        "Ha en fin dag, Ada  \n",
        "- og lykke til med ITGK\n",
        "```"
      ]
    },
    {
      "cell_type": "markdown",
      "metadata": {
        "heading_collapsed": true,
        "run_control": {
          "frozen": true
        }
      },
      "source": [
        "## Tutorial del 2 - bruk av variable i beregninger"
      ]
    },
    {
      "cell_type": "markdown",
      "metadata": {
        "deletable": false,
        "editable": false,
        "hidden": true,
        "run_control": {
          "frozen": true
        }
      },
      "source": [
        "Variable brukes ikke bare i sammenheng med `input()`, men i alle mulige slags program. I matematiske beregninger skal resultatet av en beregning ofte brukes videre i nye beregninger. Da må disse tallene huskes i variable.  \n",
        "Koden under viser samme eksempel gjort på to måter, nemlig utregning av areal for en sirkel, samt volum for en sylinder som har denne sirkelen som grunnflate. Versjon 1 er gjort uten variable, mens Versjon 2 bruker variable.\n",
        "\n",
        "**Sirkel og sylinder**"
      ]
    },
    {
      "cell_type": "code",
      "execution_count": 4,
      "metadata": {
        "hidden": true
      },
      "outputs": [
        {
          "name": "stdout",
          "output_type": "stream",
          "text": [
            "Areal av sirkelen: 91.60884177867838\n",
            "Volum av sylinderen: 723.7098500515592\n",
            "\n",
            "Areal av sirkelen: 91.60884177867838\n",
            "Volum av sylinderen: 723.7098500515592\n"
          ]
        }
      ],
      "source": [
        "import math\n",
        " \n",
        "# VERSJON 1, uten variable\n",
        "print(\"Areal av sirkelen:\", math.pi * 5.4**2)\n",
        "print(\"Volum av sylinderen:\", math.pi * 5.4**2 * 7.9)\n",
        " \n",
        "print()\n",
        " \n",
        "# VERSJON 2, med variable\n",
        "r = 5.4 # radius for en sirkel\n",
        "A_sirkel = math.pi * r**2\n",
        "print(\"Areal av sirkelen:\", A_sirkel)\n",
        "h = 7.9 # høyde sylinder hvor sirkelen er grunnflate\n",
        "V_syl = A_sirkel * h\n",
        "print(\"Volum av sylinderen:\", V_syl)"
      ]
    },
    {
      "cell_type": "markdown",
      "metadata": {
        "deletable": false,
        "editable": false,
        "hidden": true,
        "run_control": {
          "frozen": true
        }
      },
      "source": [
        "Hvis du kjører koden, vil du se at begge gir samme resultat. Hva er da forskjellen?\n",
        "\n",
        "* Versjon 2 er vesentlig lenger (6 kodelinjer, mot bare 2) fordi det brukes ekstra linjer på variable. Lenger kode er en mulig ulempe. MEN:\n",
        "* Formlene i Versjon 2 er lettere å forstå fordi det er intuitive navn som `r`, `h`, `A_sirkel` heller enn bare tall direkte.\n",
        "* Koden i V2 er mer fleksibel for å kjapt endre verdier. Hvis radius skal byttes fra 5.4 til 6.2 må dette tallet bare endres ett sted i V2, mens flere i V1.\n",
        "* Versjon 1 utfører **5 operasjoner** av type `*` og `**`, mens Versjon 2 bare utfører ***3***. Dette fordi Versjon 2 husker arealet i A_sirkel og deretter kan bruke dette, mens Versjon 1 må regne ut `math.pi * 5.4**2` på nytt.\n",
        "**Med færre multiplikasjoner vil VERSJON 2 spare både strøm og tid i forhold til VERSJON 1, dvs. koden utfører mindre jobb og går raskere selv om det er flere kodelinjer.**"
      ]
    },
    {
      "cell_type": "markdown",
      "metadata": {
        "heading_collapsed": true,
        "run_control": {
          "frozen": true
        }
      },
      "source": [
        "## Oppgave b: obligatorisk\n",
        "Bruke variable i beregninger "
      ]
    },
    {
      "cell_type": "markdown",
      "metadata": {
        "hidden": true,
        "run_control": {
          "frozen": true
        }
      },
      "source": [
        "Nedenfor står et program hvor vi regner ut omkrets og areal for en sirkel etter de velkjente formlene $O=2\\pi{r}$ og $A = \\pi r^2$. Bortsett fra **numpy** konstanten `np.pi` og den innebygde konstanten `math.tau` (=2π) bruker vi ingen variable. Dette gjør at når vi skal regne ut arealet av en sylinder hvor sirkelen er grunnflate, må vi gjøre om igjen flere beregninger som vi allerede har gjort tidligere.\n",
        "\n",
        "Arealet av sylinderen med høyde h vil være `Omkrets_sirkel * h +  2 * Areal_sirkel`, hvor det første leddet er arealet av sylinderveggen og det siste leddet er topp- og bunnlokket.\n",
        "\n",
        "***Oppgave: Endre koden ved å tilordne og deretter bruke variable for radiusen, høyden, sirkelens omkrets og areal, slik at programmet unngår å gjøre på nytt beregninger som allerede er gjort før.***"
      ]
    },
    {
      "cell_type": "code",
      "execution_count": 6,
      "metadata": {
        "ExecuteTime": {
          "end_time": "2019-07-01T10:54:16.358742Z",
          "start_time": "2019-07-01T10:54:16.351684Z"
        },
        "hidden": true
      },
      "outputs": [
        {
          "name": "stdout",
          "output_type": "stream",
          "text": [
            "Har en sirkel med radius 5.4 som er grunnflate i en sylinder med høyde 7.9\n",
            "Omkrets av sirkelen: 33.929200658769766\n",
            "Areal av sirkelen: 91.60884177867838\n",
            "Areal av sylinderen: 451.25836876163794\n"
          ]
        }
      ],
      "source": [
        "import numpy as np\n",
        "import math\n",
        "  \n",
        "sirkel = 5.4\n",
        "sylinder_høyde = 7.9\n",
        "sirkel_omkrets = math.tau * sirkel\n",
        "sirkel_areal = np.pi * sirkel ** 2 \n",
        "sylinder_areal = math.tau * sirkel * sylinder_høyde + 2 * math.pi * sirkel ** 2\n",
        "\n",
        "print(\"Har en sirkel med radius\",sirkel, \"som er grunnflate i en sylinder med høyde\", sylinder_høyde)\n",
        "print(\"Omkrets av sirkelen:\", sirkel_omkrets)  #tau er det samme som 2 pi\n",
        "print(\"Areal av sirkelen:\", sirkel_areal)\n",
        "print(\"Areal av sylinderen:\", sylinder_areal)"
      ]
    },
    {
      "cell_type": "markdown",
      "metadata": {
        "deletable": false,
        "editable": false,
        "hidden": true,
        "run_control": {
          "frozen": true
        }
      },
      "source": [
        "Resultatet av kjøring av koden skal være uendret, dvs utskrift skal bli som vist nedenfor (men hvis du vil, kan du gjerne i tillegg avrunde svarene til én desimal).\n",
        "\n",
        "  \n",
        "```\n",
        "Har en sirkel med radius 5.4 som er grunnflate i en sylinder med høyde 7.9\n",
        "Omkrets av sirkelen: 33.929200658769766\n",
        "Areal av sirkelen: 91.60884177867838\n",
        "Areal av sylinderen: 451.25836876163794\n",
        "```"
      ]
    },
    {
      "cell_type": "markdown",
      "metadata": {
        "heading_collapsed": true,
        "run_control": {
          "frozen": true
        }
      },
      "source": [
        "## Tutorial del 3: Navngiving av variable"
      ]
    },
    {
      "cell_type": "markdown",
      "metadata": {
        "deletable": false,
        "editable": false,
        "hidden": true,
        "run_control": {
          "frozen": true
        }
      },
      "source": [
        "En variabel er et navn som representerer en verdi som lagres i datamaskinens minne. Den vanligste måten å opprette en variabel på er ved en tilordningssetning:\n",
        "\n",
        "`variable = expression`\n",
        "\n",
        "I dette tilfellet er variable navnet til variabelen, mens expression er verdien. Noen regler for slike tilordningssetninger:\n",
        "\n",
        "* variabelen som opprettes skal alltid stå på venstre side av uttrykket, og venstre side skal kun inneholde denne variabelen, ikke noe annet\n",
        "* høyde side kan alt fra en enkelt verdi (f.eks. et tall) eller en enkelt variabel, til mer sammensatte uttrykk som må beregnes. Hvis høyre side inneholder variable, må dette være variable som allerede er opprettet tidligere i koden.\n",
        "* variabelnavnet må tilfredsstille følgende regler:\n",
        " * ord som er reserverte ord i Python, f.eks. `if`, `def`, eller som er navn på standardfunksjoner som `print`, `min`, `max`, ... bør unngås som varibelnavn\n",
        " * variabelnavn må begynne med en bokstav eller tegnet _ (understrek)\n",
        " * kan ellers inneholde bokstaver, tall og understrek, dvs. kan f.eks. ikke inneholde blanke tegn.\n",
        "* Python skiller mellom små og store bokstaver, så `Areal` og `areal` vil være to ulike variable.\n",
        "\n",
        "Det anbefales å lage variabelnavn som er intuitivt forståelige, f.eks. er `areal` et bedre navn enn `x` på en variabel som inneholder et areal. Sammensatte variabelnavn skrives typisk som pukkelord (eng.: camelCase) eller med understrek for å vise hvor ett ord slutter og det neste begynner, f.eks. `startTime`, `pricePerLiter` eller `start_time`, `price_per_liter`, siden direkte sammensetning uten noe som helst skille vil gi lange variabelnavn som blir vanskelige å lese.\n",
        "\n",
        "Kodeblokka under viser eksempler på variable som funker og ikke funker:"
      ]
    },
    {
      "cell_type": "code",
      "execution_count": 7,
      "metadata": {
        "hidden": true
      },
      "outputs": [
        {
          "ename": "SyntaxError",
          "evalue": "invalid decimal literal (1274524858.py, line 12)",
          "output_type": "error",
          "traceback": [
            "\u001b[1;36m  Cell \u001b[1;32mIn[7], line 12\u001b[1;36m\u001b[0m\n\u001b[1;33m    10kamp = \"gøy\"          # variabel kan ikke begynne med tall, kun bokstav eller _\u001b[0m\n\u001b[1;37m     ^\u001b[0m\n\u001b[1;31mSyntaxError\u001b[0m\u001b[1;31m:\u001b[0m invalid decimal literal\n"
          ]
        }
      ],
      "source": [
        "# Eksempel på tilordningssetninger som funker\n",
        "pokemon_name = \"Tyranitar\"\n",
        "MaxCP = 3670\n",
        "antall = 3\n",
        "antall = antall + 1      # høyre side regnes ut som 3+1, så 4 blir ny verdi i variabelen antall\n",
        "resists_fighting = False\n",
        "level42 = \"to be done\"   # tall er OK i variabelnavn unntatt helt fremst\n",
        "  \n",
        "# Eksempel på tilordninger som IKKE funker\n",
        "1 = antall              # variabelen må stå på venstre side\n",
        "antall + 1 = antall     # og v.s. kan KUN inneholde et variabelnavn, ikke et større uttrykk\n",
        "10kamp = \"gøy\"          # variabel kan ikke begynne med tall, kun bokstav eller _\n",
        "antall = 3              # denne er OK, men se neste linje\n",
        "antall = Antall + 1     # Python skiller mellom store og små bokstaver, Antall vil være en annen\n",
        "                        # variabel og gir NameError her fordi den ikke er opprettet i en tidligere setning\n",
        "happy hour = 20         # navn kan ikke inneholde mellomrom, burde vært happy_hour eller happyHour\n",
        "alkohol% = 4.5          # % kan ikke brukes i variabelnavn (betyr modulo). Samme gjelder andre spesialtegn,\n",
        "                        # hold deg til vanlige bokstaver og tall"
      ]
    },
    {
      "cell_type": "markdown",
      "metadata": {
        "heading_collapsed": true,
        "run_control": {
          "frozen": true
        }
      },
      "source": [
        "## Oppgave c: obligatorisk\n",
        "Variabelnavn"
      ]
    },
    {
      "cell_type": "markdown",
      "metadata": {
        "deletable": false,
        "editable": false,
        "hidden": true,
        "run_control": {
          "frozen": true
        }
      },
      "source": [
        "Prøv å kjør koden under. Som du vil se, funker den ikke pga. diverse feil med variabelnavn og tilordningssetninger. Fiks feilene så programmet kjører som det skal."
      ]
    },
    {
      "cell_type": "code",
      "execution_count": 9,
      "metadata": {
        "hidden": true
      },
      "outputs": [
        {
          "name": "stdout",
          "output_type": "stream",
          "text": [
            "Per er 5 år unna idealalderen\n"
          ]
        }
      ],
      "source": [
        "navn = \"Per\"\n",
        "ideal_alder = 42\n",
        "kundensAlder = 37\n",
        "differanse = ideal_alder - kundensAlder\n",
        "print(f'{navn} er {differanse} år unna idealalderen')"
      ]
    },
    {
      "cell_type": "markdown",
      "metadata": {
        "heading_collapsed": true,
        "run_control": {
          "frozen": true
        }
      },
      "source": [
        "## Oppgave d: frivillig\n",
        "Variabel-program"
      ]
    },
    {
      "cell_type": "markdown",
      "metadata": {
        "hidden": true,
        "run_control": {
          "frozen": true
        }
      },
      "source": [
        "Lag et program i kodeblokka under som først lagrer navnet ditt i en variabel og alderen din i en annen variabel, for så å printe det ut med `print()`-funksjonen.\n",
        "\n",
        "Eksempel på kjøring:\n",
        "```\n",
        "Jeg heter Bob Bernt, og er 46 år.\n",
        "```\n",
        "\n",
        "***Skriv koden din i blokka under.***"
      ]
    },
    {
      "cell_type": "code",
      "execution_count": 10,
      "metadata": {
        "hidden": true
      },
      "outputs": [
        {
          "name": "stdout",
          "output_type": "stream",
          "text": [
            "Jeg heter Markus, og er 23 år.\n"
          ]
        }
      ],
      "source": [
        "navn = \"Markus\"\n",
        "alder = 23\n",
        "\n",
        "print(f\"Jeg heter {navn}, og er {alder} år.\")"
      ]
    }
  ],
  "metadata": {
    "kernelspec": {
      "display_name": "Python 3 (ipykernel)",
      "language": "python",
      "name": "python3"
    },
    "language_info": {
      "codemirror_mode": {
        "name": "ipython",
        "version": 3
      },
      "file_extension": ".py",
      "mimetype": "text/x-python",
      "name": "python",
      "nbconvert_exporter": "python",
      "pygments_lexer": "ipython3",
      "version": "3.11.4"
    },
    "toc": {
      "base_numbering": 1,
      "nav_menu": {},
      "number_sections": false,
      "sideBar": true,
      "skip_h1_title": false,
      "title_cell": "Table of Contents",
      "title_sidebar": "Contents",
      "toc_cell": false,
      "toc_position": {},
      "toc_section_display": true,
      "toc_window_display": false
    }
  },
  "nbformat": 4,
  "nbformat_minor": 2
}
