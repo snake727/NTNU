{
 "cells": [
  {
   "cell_type": "markdown",
   "id": "44c0dc8c",
   "metadata": {},
   "source": [
    "# Priser med og uten moms\n",
    "\n",
    "**Læringsmål:**\n",
    "\n",
    "* Aritmetikk\n",
    "* Funksjoner"
   ]
  },
  {
   "cell_type": "markdown",
   "id": "abd1ec0a",
   "metadata": {
    "heading_collapsed": true
   },
   "source": [
    "## Oppgave a: frivillig"
   ]
  },
  {
   "cell_type": "markdown",
   "id": "4fe0ec27",
   "metadata": {
    "hidden": true
   },
   "source": [
    "I denne oppgaven skal du lage to funksjoner. Den første `pris_u_moms(pris_m_moms)` tar inn en `pris_m_moms` som parameter og returnerer prisen uten moms. Anta $25\\%$ moms i denne funksjonen. \n",
    "\n",
    "Det er ikke alltid momsen er $25\\%$. Når du kjøper mat på restaurant og velger \"ta med\" for eksempel, er momsen bare $15\\%$. Du skal derfor også lage en funksjon `pris_m_valgfri_moms(pris_u_moms, moms)` som tar inn både prisen uten moms (`pris_u_moms`) og momsen som skal legges til (`moms`), og returnerer den nye prisen.\n",
    "\n",
    "***Skriv koden din i kodeblokken nedenfor***"
   ]
  },
  {
   "cell_type": "code",
   "execution_count": 13,
   "id": "bec87203",
   "metadata": {
    "hidden": true
   },
   "outputs": [],
   "source": [
    "def pris_u_moms(pris_m_moms):\n",
    "    return pris_m_moms - (pris_m_moms * (1/5))\n",
    "\n",
    "def pris_m_valgfri_moms(pris_u_moms, moms):\n",
    "    return pris_u_moms * (1 + moms)"
   ]
  },
  {
   "cell_type": "code",
   "execution_count": 14,
   "id": "a6e16b70",
   "metadata": {
    "hidden": true,
    "scrolled": true
   },
   "outputs": [
    {
     "name": "stdout",
     "output_type": "stream",
     "text": [
      "\n",
      "           Kvittering hos ITGK shopen\n",
      "        --------------------------------\n",
      "        Imsdal (0.5dl)\n",
      "                          1       25     \n",
      "        --------------------------------\n",
      "        Pris ex. moms             20.0\n",
      "        Moms 25 %                 5.0\n",
      "        TOTAL                     25.0 \n",
      "        \n"
     ]
    }
   ],
   "source": [
    "print(f\"\"\"\n",
    "           Kvittering hos ITGK shopen\n",
    "        --------------------------------\n",
    "        Imsdal (0.5dl)\n",
    "                          1       25     \n",
    "        --------------------------------\n",
    "        Pris ex. moms             {pris_u_moms(25)}\n",
    "        Moms 25 %                 {25 - pris_u_moms(25)}\n",
    "        TOTAL                     {pris_m_valgfri_moms(pris_u_moms(25), .25)} \n",
    "        \"\"\")"
   ]
  },
  {
   "cell_type": "markdown",
   "id": "5bb84ced",
   "metadata": {
    "hidden": true
   },
   "source": [
    "Hvis du har gjort oppgaven rett, skal kodeblokken under gi output:\n",
    "\n",
    "```python\n",
    "\n",
    "   Kvittering hos ITGK shopen\n",
    "--------------------------------\n",
    "Imsdal (0.5dl)\n",
    "                  1       25     \n",
    "--------------------------------\n",
    "Pris ex. moms             20.0\n",
    "Moms 25 %                 5.0\n",
    "TOTAL                     25.0\n",
    "```"
   ]
  },
  {
   "cell_type": "markdown",
   "id": "0823d408",
   "metadata": {
    "heading_collapsed": true
   },
   "source": [
    "## Oppgave b: frivillig"
   ]
  },
  {
   "cell_type": "markdown",
   "id": "30174002",
   "metadata": {
    "hidden": true
   },
   "source": [
    "Vi ønsker nå å bergene for mye total moms vi skal betale for en del varer samtidig. Vi har fått vite at for hver vare skal vi betale $10\\%$ moms, men vi sliter litt med koden vår. Kan du hjelpe oss?"
   ]
  },
  {
   "cell_type": "code",
   "execution_count": 67,
   "id": "cea3791f",
   "metadata": {
    "hidden": true
   },
   "outputs": [],
   "source": [
    "import numpy as np\n",
    "\n",
    "priser_inkl_moms = np.array([27.5, 19.8, 46.2, 82.5, 5.5, 37.95])\n",
    "moms = priser_inkl_moms * (1/11)\n",
    "moms_til_betaling = np.sum(moms)"
   ]
  },
  {
   "cell_type": "markdown",
   "id": "34e5d7a8",
   "metadata": {
    "hidden": true
   },
   "source": [
    "Hvis du har skrevet koden over rett, skal output av kodeblokken under gi følgende output:\n",
    "\n",
    "```python\n",
    "Moms pr. vare: [2.5  1.8  4.2  7.5  0.5  3.45]\n",
    "Total moms å betale: 19.95\n",
    "```"
   ]
  },
  {
   "cell_type": "code",
   "execution_count": 68,
   "id": "27ac47bf",
   "metadata": {
    "hidden": true,
    "scrolled": true
   },
   "outputs": [
    {
     "name": "stdout",
     "output_type": "stream",
     "text": [
      "Moms pr. vare: [2.5  1.8  4.2  7.5  0.5  3.45]\n",
      "Total moms å betale: 19.95\n"
     ]
    }
   ],
   "source": [
    "print(f'Moms pr. vare: {moms}')\n",
    "print(f'Total moms å betale: {moms_til_betaling}')"
   ]
  },
  {
   "cell_type": "markdown",
   "id": "fc86338b",
   "metadata": {
    "heading_collapsed": true,
    "hidden": true
   },
   "source": [
    "### Hint"
   ]
  },
  {
   "cell_type": "markdown",
   "id": "c456451e",
   "metadata": {
    "hidden": true
   },
   "source": [
    "**Hint 1:** Sjekk ut oppgaven [Tall- og Typekonvertering](Tall-%20og%20Typekonvertering.ipynb) og tutorialen på \"Datatyper\". Her kan du lese om **Numpy arrays**.\n",
    "\n",
    "**Hint 2:** `np.sum()` summerer alle tallene i et array"
   ]
  }
 ],
 "metadata": {
  "kernelspec": {
   "display_name": "Python 3.9.7 ('tdt4195')",
   "language": "python",
   "name": "python3"
  },
  "language_info": {
   "codemirror_mode": {
    "name": "ipython",
    "version": 3
   },
   "file_extension": ".py",
   "mimetype": "text/x-python",
   "name": "python",
   "nbconvert_exporter": "python",
   "pygments_lexer": "ipython3",
   "version": "3.11.4"
  },
  "vscode": {
   "interpreter": {
    "hash": "63b89d9bfc14eb4486c27c9b239bf0a08c4c63a21c176f83036370f0e204c130"
   }
  }
 },
 "nbformat": 4,
 "nbformat_minor": 5
}
