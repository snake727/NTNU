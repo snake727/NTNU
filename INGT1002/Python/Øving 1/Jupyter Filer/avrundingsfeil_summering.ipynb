{
 "cells": [
  {
   "cell_type": "markdown",
   "id": "4531dc56",
   "metadata": {},
   "source": [
    "# Avrundingsfeil, summering av små og store tall\n",
    "\n",
    "**Læringsmål:**\n",
    "\n",
    "* Avrundingsfeil\n",
    "* Flyttallrepresentasjon"
   ]
  },
  {
   "cell_type": "markdown",
   "id": "3f45f2e9",
   "metadata": {},
   "source": [
    "<p style=\"color: red;\">Vi anbefaler at du leser igjennom tutorialene i oppgavene <a href=\"avrundingsfeil_subtraksjon.ipynb\">Avrundingsfeil - subtraksjon</a> og <a href=\"vitenskapelig_notasjon.ipynb\">Vitenskapelig notasjon</a> før du gjør denne oppgaven.</p>"
   ]
  },
  {
   "cell_type": "markdown",
   "id": "bb7153a3",
   "metadata": {
    "heading_collapsed": true
   },
   "source": [
    "## Oppgave a: obligatorisk"
   ]
  },
  {
   "cell_type": "markdown",
   "id": "cc98d9d7",
   "metadata": {
    "hidden": true
   },
   "source": [
    "Matematisk er rekkefølgen på leddene i en sum likegyldig, dvs. f.eks. skal $a + b + c + d + e + f + g$ gi samme resultat som $g + f + e + d + c + b + a$ (eller hvilken som helst annen rekkefølge), uavhengig av størrelsen til leddene. \n",
    "\n",
    "I en praktisk beregning med flyttall med endelig presisjon kan imidlertid rekkefølgen ha betydning, særlig hvis det er stor forskjell på tallenes størrelse (noen veldig store tall og noen bitte små tall). \n",
    "\n",
    "I denne oppgaven er det laget et program for deg. Dette programmet skal du lese, kjøre, endre og forstå. Det som er viktig at du får med deg her er at de ulike summeringsrekkefølgene gir ulike resultater. \n",
    "\n",
    "*Hvilken av metodene gir det mest korrekte svaret?*\n",
    "\n",
    "***Les, kjør, endre på tallene, og forså hva koden under gjør. Svar på spørsmålet som kommentar i koden***"
   ]
  },
  {
   "cell_type": "code",
   "execution_count": 5,
   "id": "2cca24b5",
   "metadata": {
    "hidden": true
   },
   "outputs": [
    {
     "name": "stdout",
     "output_type": "stream",
     "text": [
      "Sum av bare de små: 0.001209\n",
      "Sum med stort tall først: 310000000000.0024\n",
      "Sum med lite tall først: 310000000000.0012\n"
     ]
    }
   ],
   "source": [
    "T = 3.1e11 # et stort tall\n",
    "t = 3.1e-5 # et lite tall\n",
    "\n",
    "#sum av mange små tall\n",
    "sum_mange = t+t+t+t+t+t+t+t+t+t+t+t+t+t+t+t+t+t+t+t+t+t+t+t+t+t+t+t+t+t+t+t+t+t+t+t+t+t+t\n",
    "\n",
    "# summerer med stort tall fremst, så de små\n",
    "stor_fremst = T+t+t+t+t+t+t+t+t+t+t+t+t+t+t+t+t+t+t+t+t+t+t+t+t+t+t+t+t+t+t+t+t+t+t+t+t+t+t+t\n",
    "\n",
    "# samme sum men nå med stort tall bakerst\n",
    "stor_bakerst = t+t+t+t+t+t+t+t+t+t+t+t+t+t+t+t+t+t+t+t+t+t+t+t+t+t+t+t+t+t+t+t+t+t+t+t+t+t+t+T\n",
    "\n",
    "print(f'Sum av bare de små: {sum_mange}')\n",
    "print(f'Sum med stort tall først: {stor_fremst}')\n",
    "print(f'Sum med lite tall først: {stor_bakerst}')\n",
    "\n",
    "#Grunnen til at dette skjer er at ikke alle tall kan konstrueres av base 2 tall med eksponenter, og derfor må python anta hva tallet er ved å tilnærme seg det."
   ]
  },
  {
   "cell_type": "markdown",
   "id": "b94c34a8",
   "metadata": {
    "heading_collapsed": true
   },
   "source": [
    "## Oppgave b: frivillig"
   ]
  },
  {
   "cell_type": "markdown",
   "id": "e3833a90",
   "metadata": {
    "hidden": true
   },
   "source": [
    "I denne oppgaven er det også skrevet et lite program for deg. Din oppgave her er å bytte ut alle `...` med rett kode. Hva koden skal gjøre står beskrevet i kommentarene. Du skal også svare på følgende spørsmål som kommentar i koden: \n",
    "\n",
    "*Hvilken av summeringsmetodene er å foretrekke når det kommer til avrundingsfeil?*\n",
    "\n",
    "Det som er viktig å få med seg fra denne oppgaven er at de ulike summeringsfunksjoner gir forskjellige resultat.\n",
    "\n",
    "***Endre kodeblokken under slik at du får forventet output, og svar på spørsmålet over som kommentar i koden***"
   ]
  },
  {
   "cell_type": "code",
   "execution_count": 11,
   "id": "917774d1",
   "metadata": {
    "hidden": true,
    "scrolled": true
   },
   "outputs": [
    {
     "name": "stdout",
     "output_type": "stream",
     "text": [
      "Standard sum(): 310000000000.0024\n",
      "Numpy sum(): 310000000000.00134\n",
      "Math fsum(): 310000000000.0012\n"
     ]
    }
   ],
   "source": [
    "import math\n",
    "import numpy as np\n",
    "\n",
    "# Liste med stort tall fremst, bruker Pythons standard sum-funksjon\n",
    "L = [T,t,t,t,t,t,t,t,t,t,t,t,t,t,t,t,t,t,t,t,t,t,t,t,t,t,t,t,t,t,t,t,t,t,t,t,t,t,t,t]\n",
    "print(f'Standard sum(): {sum(L)}')\n",
    "\n",
    "# Numpy array, stort tall fremst, np.sum() funksjon\n",
    "A = np.array(L)\n",
    "print(f'Numpy sum(): {np.sum(A)}')\n",
    "\n",
    "# math.fsum() funksjonen\n",
    "print(f'Math fsum(): {math.fsum(A)}')\n",
    "\n",
    "#Math.fsum er den beste metoden for å summere tall når det er snakk om presisjon, men kun når det er snakk om float (siden float runder opp siden at den bare lagrer 16 betydelige siffer)."
   ]
  },
  {
   "cell_type": "markdown",
   "id": "1bcfa983",
   "metadata": {
    "hidden": true
   },
   "source": [
    "Hvis du har gjort alt rett skal output fra kodeblokken, med `T = 3.1e11` og `t = 3.1e-5`, bli:\n",
    "\n",
    "```python\n",
    "Standard sum(): 310000000000.0024\n",
    "Numpy sum(): 310000000000.00134\n",
    "Math fsum(): 310000000000.0012\n",
    "```"
   ]
  },
  {
   "cell_type": "markdown",
   "id": "25362937",
   "metadata": {
    "heading_collapsed": true,
    "hidden": true
   },
   "source": [
    "### Hint:"
   ]
  },
  {
   "cell_type": "markdown",
   "id": "9542530c",
   "metadata": {
    "hidden": true
   },
   "source": [
    "Bruk metodene `np.sum()`, `sum()` og `math.fsum()`). Husk å importere `numpy` og `math`."
   ]
  }
 ],
 "metadata": {
  "kernelspec": {
   "display_name": "Python 3 (ipykernel)",
   "language": "python",
   "name": "python3"
  },
  "language_info": {
   "codemirror_mode": {
    "name": "ipython",
    "version": 3
   },
   "file_extension": ".py",
   "mimetype": "text/x-python",
   "name": "python",
   "nbconvert_exporter": "python",
   "pygments_lexer": "ipython3",
   "version": "3.11.4"
  }
 },
 "nbformat": 4,
 "nbformat_minor": 5
}
