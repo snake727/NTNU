{
 "cells": [
  {
   "cell_type": "markdown",
   "metadata": {
    "run_control": {
     "frozen": true
    }
   },
   "source": [
    "# Tall- og Typekonvertering\n",
    "\n",
    "**Læringsmål:**\n",
    "\n",
    "* Datatyper\n",
    "* Konvertering mellom datatyper\n",
    "* Funksjoner\n"
   ]
  },
  {
   "cell_type": "markdown",
   "metadata": {
    "heading_collapsed": true
   },
   "source": [
    "## Tutorial: Datatyper"
   ]
  },
  {
   "cell_type": "markdown",
   "metadata": {
    "hidden": true
   },
   "source": [
    "I Python, og andre programmeringsspråk, kan data ha forskjellige _typer_. Forskjellige datatyper egner seg for forskjellige bruksområder. For eksempel hvis vi skal lagre alderen til en person, vil det lønne seg å lagre dette i en `int`. Navnet til samme person, derimot, bør være en `string`. \n",
    "\n",
    "Det finnes mange forksjellige datatyper, men vi skal ikke gå igjennom alle her. Det kommer i en senere øving. De du skal lære her er:\n",
    "\n",
    "* **Integer** - et heltall. F.eks `10`. I Python brukes `int` for en integer\n",
    "* **Float** - et flyttall (tall med desimal). F.eks `10.5`\n",
    "* **String** - tekst. F.eks `\"ITGK\"`. I Python brukes `str` for en string\n",
    "* **Boolean** - sannhetsverdi. Enten `True` eller `False`. I Python brukes `bool` for boolean\n",
    "* **List** - en liste med verdier. En liste inneholder variabler/verdier av hvilken som helst datatype. F.eks `[1, 2, \"Er ITGK kult?\", True]`\n",
    "* **ndarray**/**np.array** - et array. F.eks `np.array([1,2,3,4])`. \n",
    "\n",
    "Les mer om de forksjellige datatypene nedenfor:\n"
   ]
  },
  {
   "cell_type": "markdown",
   "metadata": {
    "heading_collapsed": true,
    "hidden": true
   },
   "source": [
    "### Integer"
   ]
  },
  {
   "cell_type": "markdown",
   "metadata": {
    "hidden": true
   },
   "source": [
    "Integers er enten et negativt heltall, 0 eller et positivt heltall. Som kjent fra matematikken er Integers tallene denotert som $\\mathbb{Z}$. (les mer om Integers i matematikken [her](https://en.wikipedia.org/wiki/Integer). La oss nå lage noen ints i Python, det er utrolig lett. Kjør kodeblokken nedenfor:"
   ]
  },
  {
   "cell_type": "code",
   "execution_count": 1,
   "metadata": {
    "hidden": true
   },
   "outputs": [],
   "source": [
    "a = -10\n",
    "b = 0\n",
    "c = 10"
   ]
  },
  {
   "cell_type": "markdown",
   "metadata": {
    "hidden": true
   },
   "source": [
    "Integers følger et set med regler, akkurat som i matematikken. Vi kan for eksempel addere integers, hvor resultatet også vil være en integer. Det samme gjelder for multiplikasjon. Utfører vi _divisjon_ med to integers derimot, vil resultatet være en `float`. La oss gjøre litt aritmetiske operasjoner på ints. Prøv å kjøre kodeblokken under:"
   ]
  },
  {
   "cell_type": "code",
   "execution_count": 2,
   "metadata": {
    "hidden": true
   },
   "outputs": [
    {
     "name": "stdout",
     "output_type": "stream",
     "text": [
      "-10\n",
      "-10\n",
      "-100\n",
      "0\n"
     ]
    },
    {
     "ename": "ZeroDivisionError",
     "evalue": "division by zero",
     "output_type": "error",
     "traceback": [
      "\u001b[1;31m---------------------------------------------------------------------------\u001b[0m",
      "\u001b[1;31mZeroDivisionError\u001b[0m                         Traceback (most recent call last)",
      "Cell \u001b[1;32mIn[2], line 5\u001b[0m\n\u001b[0;32m      3\u001b[0m \u001b[39mprint\u001b[39m(a \u001b[39m*\u001b[39m c) \u001b[39m# Samme som -10 * 10\u001b[39;00m\n\u001b[0;32m      4\u001b[0m \u001b[39mprint\u001b[39m(b \u001b[39m*\u001b[39m c) \u001b[39m# Samme som 0 * c\u001b[39;00m\n\u001b[1;32m----> 5\u001b[0m \u001b[39mprint\u001b[39m(a \u001b[39m/\u001b[39;49m b) \u001b[39m# Samme som -10 : 0\u001b[39;00m\n",
      "\u001b[1;31mZeroDivisionError\u001b[0m: division by zero"
     ]
    }
   ],
   "source": [
    "print(a + b) # Samme som å si -10 + 0\n",
    "print(b - c) # Samme som 0 - 10\n",
    "print(a * c) # Samme som -10 * 10\n",
    "print(b * c) # Samme som 0 * c\n",
    "print(a / b) # Samme som -10 : 0"
   ]
  },
  {
   "cell_type": "markdown",
   "metadata": {
    "hidden": true
   },
   "source": [
    "Whoops, ser du koden over ga en feilmelding? Karer du å se hva feilen er? Hvis ikke er ikke det så farlig, vi forteller deg nå; på siste linje prøver vi å dele på `0`. Dette vet vi fra matematikken at er fyfy, og det samme gjelder i Python. Det som er fint med Python ovenfor matetmatikken er at Python sier ifra når du gjør noe som ikke er lov, slik som over. Det aller verste som kan skje er at programmet kræsjer, og vi må fikse opp i bugs. Se om du klarer å fikse opp i feilen over, slik at programmet kjører uten å kræsje."
   ]
  },
  {
   "cell_type": "markdown",
   "metadata": {
    "heading_collapsed": true,
    "hidden": true
   },
   "source": [
    "### Float"
   ]
  },
  {
   "cell_type": "markdown",
   "metadata": {
    "hidden": true
   },
   "source": [
    "Floats oppfører seg på nesten samme måte som Integers. De består av de rasjonale tallene $\\mathbb{Q}$. De skiller seg fra Integers ved at de kan ligge mellom heltall. La oss lage noen floats. Kjør kodeblokken nedenfor:"
   ]
  },
  {
   "cell_type": "code",
   "execution_count": 3,
   "metadata": {
    "hidden": true
   },
   "outputs": [],
   "source": [
    "d = 1.2\n",
    "e = -4.2\n",
    "f = 0.0"
   ]
  },
  {
   "cell_type": "markdown",
   "metadata": {
    "hidden": true
   },
   "source": [
    "På samme måte som med `int`s kan vi utføre aritmetiske operasjoner på floats. Kjør kodeblokken under og se at du forstår hva som skjer:"
   ]
  },
  {
   "cell_type": "code",
   "execution_count": 4,
   "metadata": {
    "hidden": true
   },
   "outputs": [
    {
     "name": "stdout",
     "output_type": "stream",
     "text": [
      "5.8\n",
      "14.2\n",
      "-0.0\n"
     ]
    }
   ],
   "source": [
    "print(c + e) # Samme som 1.2 + (-4.2)\n",
    "print(c - e) # Samme som 1.2 - (-4.2)\n",
    "print(f * e) # Samme som 0.0 * (4.2)"
   ]
  },
  {
   "cell_type": "markdown",
   "metadata": {
    "heading_collapsed": true,
    "hidden": true
   },
   "source": [
    "### String"
   ]
  },
  {
   "cell_type": "markdown",
   "metadata": {
    "hidden": true
   },
   "source": [
    "String er en datatype som inneholder tekst. For å lage en streng skriver vi tekst omringet av \"fnutter\". Vi kan bruke både enkeltfnutter `'Jeg er en streng'`, dobbeltfnutter `\"Jeg er en annen streng\"` eller trippelfnutter `\"\"\"Jeg er enda en streng\"\"\"`. Alle tre måtene å skrive strenger på er like riktig, men de har forskjellige bruksområder. Enkelt- og dobbeltfnutter er veldig like. En av forskjellene er at om du bruker enkeltfnutter, kan du ha dobbeltfnutter i teksten uten noe problem, og omvendt ved bruk av dobbeltfnutter. For eksempel `'Ordet \"stein\" kan være både et navn og et objekt man finner i naturen'` eller `\"Ordet 'stein' kan være både et navn og et objekt man finner i naturen\"`. Trippeltfnutter lager såkalte \"multiline\"-strenger. Altså kan vi få strenger på flere linjer. Kjør kodeblokken under og se om du forstår hva som skjer:"
   ]
  },
  {
   "cell_type": "code",
   "execution_count": 5,
   "metadata": {
    "hidden": true
   },
   "outputs": [
    {
     "name": "stdout",
     "output_type": "stream",
     "text": [
      "Jeg er en streng med enkeltfnutter\n",
      "Jeg er en streng med dobbeltfnutter\n",
      "Jeg er en\n",
      "multiline streng\n"
     ]
    }
   ],
   "source": [
    "s1 = 'Jeg er en streng med enkeltfnutter'\n",
    "s2 = \"Jeg er en streng med dobbeltfnutter\"\n",
    "s3 = \"\"\"Jeg er en\n",
    "multiline streng\"\"\"\n",
    "\n",
    "print(s1)\n",
    "print(s2)\n",
    "print(s3)"
   ]
  },
  {
   "cell_type": "markdown",
   "metadata": {
    "hidden": true
   },
   "source": [
    "Vi kan ikke gjøre aritmetiske operasjoner på strenger, på samme måte som `int`s og `float`s. Det betyr derimot ikke at vi ikke kan bruke matematiske operatorer på strenger:"
   ]
  },
  {
   "cell_type": "code",
   "execution_count": 6,
   "metadata": {
    "hidden": true
   },
   "outputs": [
    {
     "name": "stdout",
     "output_type": "stream",
     "text": [
      "101520\n"
     ]
    }
   ],
   "source": [
    "s4 = '10' + '15' + '20'\n",
    "print(s4)"
   ]
  },
  {
   "cell_type": "markdown",
   "metadata": {
    "hidden": true
   },
   "source": [
    "`+` operatoren \"setter sammen\" strenger. Som i eksempelet over setter vi sammen, eller konkatinerer, tre strenger; `'10'`, `'15'` og `'20'`, til én stor streng `'101520'`. Du ser forhåpentligvis at tallene `10`, `15` og `20` _ikke_ blir addert til `45` slik de ville blitt om de var `int`s eller `float`s, men strengene blir konkatinert. "
   ]
  },
  {
   "cell_type": "code",
   "execution_count": 7,
   "metadata": {
    "hidden": true
   },
   "outputs": [
    {
     "name": "stdout",
     "output_type": "stream",
     "text": [
      "10101010101010101010\n"
     ]
    }
   ],
   "source": [
    "s5 = '10' * 10\n",
    "print(s5)"
   ]
  },
  {
   "cell_type": "markdown",
   "metadata": {
    "hidden": true
   },
   "source": [
    "`*` operatoren ganger strengen antall ganger. I eksempelet over ganger vi strengen `'10'` med `10`, og får den resulterende strengen `'10101010101010101010'` ('10' 10 ganger), ikke `100` som om vi hadde ganget `int`en `10` med `int`en `10`. Operatorene `-` og `/` kan vi ikke bruke på strenger."
   ]
  },
  {
   "cell_type": "markdown",
   "metadata": {
    "hidden": true
   },
   "source": [
    "Innimellom er det fint å ha andre datatyper inne i strenger. Dette gjøres lett med **f-strings**:"
   ]
  },
  {
   "cell_type": "code",
   "execution_count": 8,
   "metadata": {
    "hidden": true
   },
   "outputs": [
    {
     "name": "stdout",
     "output_type": "stream",
     "text": [
      "Jeg er en f-string, og jeg kan ha for eksempel ints i meg: 12345, eller floats: 123.45\n"
     ]
    }
   ],
   "source": [
    "s6 = f'Jeg er en f-string, og jeg kan ha for eksempel ints i meg: {12345}, eller floats: {123.45}'\n",
    "print(s6)"
   ]
  },
  {
   "cell_type": "markdown",
   "metadata": {
    "hidden": true
   },
   "source": [
    "Det som er verdt å merke seg med **f-strings** er at så fort andre datatyper blir inkorporert inne i strengen, er de ikke lenger sin egen datatype. De er nå en del av den nye strengen. F-strings er helt vanlige strenger, men de er litt lettere å formatere de. Inne i krøllparentesene {} kan vi ha stort sett det vi vil, også variabler:"
   ]
  },
  {
   "cell_type": "code",
   "execution_count": 9,
   "metadata": {
    "hidden": true
   },
   "outputs": [
    {
     "name": "stdout",
     "output_type": "stream",
     "text": [
      "Her er et tall: 12345\n"
     ]
    }
   ],
   "source": [
    "tall = 12345\n",
    "s7 = f'Her er et tall: {tall}'\n",
    "print(s7)"
   ]
  },
  {
   "cell_type": "markdown",
   "metadata": {
    "heading_collapsed": true,
    "hidden": true
   },
   "source": [
    "### Boolean"
   ]
  },
  {
   "cell_type": "markdown",
   "metadata": {
    "hidden": true
   },
   "source": [
    "En `bool` er en sannhetsverdi, enten `True` eller `False`, og er en _veldig_ sentral datatype i programmering. Booleans kan brukes for eksempel til å sjekke om en alder er under eller over `18`."
   ]
  },
  {
   "cell_type": "code",
   "execution_count": 10,
   "metadata": {
    "hidden": true
   },
   "outputs": [
    {
     "name": "stdout",
     "output_type": "stream",
     "text": [
      "Jeg har gjort øvingen min: False\n"
     ]
    }
   ],
   "source": [
    "gjort_oving = False\n",
    "print(f'Jeg har gjort øvingen min: {gjort_oving}')"
   ]
  },
  {
   "cell_type": "markdown",
   "metadata": {
    "hidden": true
   },
   "source": [
    "Senere i emnet vil du lære om if-setninger. Da står booleans sentralt. En liten smakebit her:"
   ]
  },
  {
   "cell_type": "code",
   "execution_count": 11,
   "metadata": {
    "hidden": true
   },
   "outputs": [
    {
     "name": "stdout",
     "output_type": "stream",
     "text": [
      "Det er fint vær, gå ut!\n"
     ]
    }
   ],
   "source": [
    "fint_vaer = True\n",
    "if fint_vaer:\n",
    "    print('Det er fint vær, gå ut!')\n",
    "else:\n",
    "    print('Det er ikke fint vært, bli inne du')"
   ]
  },
  {
   "cell_type": "markdown",
   "metadata": {
    "hidden": true
   },
   "source": [
    "Prøv å endre variabelen `fint_vaer` til `False` og se hva som skjer. Dette er et eksempel på bruk av booleans og hvordan de kan endre utfallet av et program."
   ]
  },
  {
   "cell_type": "markdown",
   "metadata": {
    "heading_collapsed": true,
    "hidden": true
   },
   "source": [
    "### List"
   ]
  },
  {
   "cell_type": "markdown",
   "metadata": {
    "hidden": true
   },
   "source": [
    "Lister er en annen fundamental datatype i Python. Lister er er en samling av verdier, enten av andre datayper, eller av lister selv. For å lage en liste brukes klammeparantesene []. Inne i klammene legger vi verdiene våre, sparert med komma. Prøv å kjøre kodeblokken under, gjerne endre på verdiene også."
   ]
  },
  {
   "cell_type": "code",
   "execution_count": 12,
   "metadata": {
    "hidden": true
   },
   "outputs": [
    {
     "name": "stdout",
     "output_type": "stream",
     "text": [
      "Her har du en liste med tall: [1, 2, 3, 4]\n"
     ]
    }
   ],
   "source": [
    "liste_med_tall = [1, 2, 3, 4]\n",
    "print(f'Her har du en liste med tall: {liste_med_tall}')"
   ]
  },
  {
   "cell_type": "markdown",
   "metadata": {
    "hidden": true
   },
   "source": [
    "Du vil lære mer om lister senere, som for eksempel hvordan du henter ut elementer. Det viktigste for nå er å vite hvordan du oppretter en :) Lister kan som sagt inneholde flere forskjellige datatyper:"
   ]
  },
  {
   "cell_type": "code",
   "execution_count": 13,
   "metadata": {
    "hidden": true
   },
   "outputs": [
    {
     "name": "stdout",
     "output_type": "stream",
     "text": [
      "Her har du en liste med forskjellige verdier: [1.0, 4, True, 'hei på deg']\n"
     ]
    }
   ],
   "source": [
    "liste_med_forskjellige_verdier = [1.0, 4, True, 'hei på deg']\n",
    "print(f'Her har du en liste med forskjellige verdier: {liste_med_forskjellige_verdier}')"
   ]
  },
  {
   "cell_type": "markdown",
   "metadata": {
    "hidden": true
   },
   "source": [
    "På samme måte som strenger kan vi ikke gjøre vanlige matematiske operasjoner på lister. Vi kan derimort gange en liste med et tall, og plusse sammen lister. Oppførselen blir det samme som når vi ganger en streng med et tall, eller plusser sammen to strenger. _Elementente_ i listen blir ikke ganget med tallet, de vil bli replikert X ganger. _Elementene_ i listene vil heller ikke bli plusset sammen ved bruk av `+`, men den ene listen blir lagt til i den andre listen:"
   ]
  },
  {
   "cell_type": "code",
   "execution_count": 14,
   "metadata": {
    "hidden": true
   },
   "outputs": [
    {
     "name": "stdout",
     "output_type": "stream",
     "text": [
      "[1, 2, 3, 4, 5, 6, 7, 8]\n",
      "[1, 2, 3, 4, 1, 2, 3, 4, 1, 2, 3, 4, 1, 2, 3, 4, 1, 2, 3, 4, 1, 2, 3, 4, 1, 2, 3, 4, 1, 2, 3, 4, 1, 2, 3, 4, 1, 2, 3, 4]\n"
     ]
    }
   ],
   "source": [
    "liste_med_tall = [1,2,3,4]\n",
    "liste_med_tall2 = [5,6,7,8]\n",
    "\n",
    "liste2 = liste_med_tall + liste_med_tall2\n",
    "print(liste2)\n",
    "\n",
    "liste3 = liste_med_tall * 10\n",
    "print(liste3)"
   ]
  },
  {
   "cell_type": "markdown",
   "metadata": {
    "heading_collapsed": true,
    "hidden": true
   },
   "source": [
    "### Ndarray"
   ]
  },
  {
   "cell_type": "markdown",
   "metadata": {
    "hidden": true
   },
   "source": [
    "Datatypen `ndarray` kommer fra det eksterne biblioteket `numpy` og er en type liste. `ndarray` blir ofte omtalt som \"Numpy array\" eller bare \"array\". For å opprette et array må vi først _importere_ Numpy biblioteket. Det betyr i praksis at vi henter kode som er skrevet av noen eksterne, slik at vi kan bruke den. Deretter bruker vi funksjonen `array()` i biblioteket for å opprette arrayet vårt.\n",
    "\n",
    "I eksempelet nedenfor importeres Numpy, og vi kaller importen for `np`. Deretter oppretter vi arrayet med `np.array([])`. Klammeparantesene inne i de vanlige parantesene her er en helt vanlig liste, som definert over. Denne må være med - vi oppretter arrayet utifra en liste. Eksempelet under oppretter bare et tomt array."
   ]
  },
  {
   "cell_type": "code",
   "execution_count": 15,
   "metadata": {
    "hidden": true
   },
   "outputs": [
    {
     "name": "stdout",
     "output_type": "stream",
     "text": [
      "[]\n"
     ]
    }
   ],
   "source": [
    "import numpy as np\n",
    "\n",
    "arr = np.array([])\n",
    "print(arr)"
   ]
  },
  {
   "cell_type": "markdown",
   "metadata": {
    "hidden": true
   },
   "source": [
    "For å opprette et array med verdier legger vi bare en liste med verdier som argument inn i `array()`-funksjonen:"
   ]
  },
  {
   "cell_type": "code",
   "execution_count": 16,
   "metadata": {
    "hidden": true
   },
   "outputs": [
    {
     "name": "stdout",
     "output_type": "stream",
     "text": [
      "[1 2 3 4]\n"
     ]
    }
   ],
   "source": [
    "import numpy as np\n",
    "\n",
    "arr = np.array([1, 2, 3, 4])\n",
    "print(arr)"
   ]
  },
  {
   "cell_type": "markdown",
   "metadata": {
    "hidden": true
   },
   "source": [
    "La du merke til at kommaene i arrayet ikke er med i output? Dette karakteriserer et array.\n",
    "\n",
    "I motsetning til vanlige lister kan ikke arrays inneholde flere forskjellige datatyper. Datatypen arrayet inneholder blir bestemt av det første elementet i listen:"
   ]
  },
  {
   "cell_type": "code",
   "execution_count": 17,
   "metadata": {
    "hidden": true
   },
   "outputs": [
    {
     "name": "stdout",
     "output_type": "stream",
     "text": [
      "['Jeg er en streng' '1' '2' 'True' 'False']\n"
     ]
    }
   ],
   "source": [
    "import numpy as np\n",
    "\n",
    "arr = np.array(['Jeg er en streng', 1, 2, True, False])\n",
    "print(arr)"
   ]
  },
  {
   "cell_type": "markdown",
   "metadata": {
    "hidden": true
   },
   "source": [
    "I output ser du at _alle_ elementene har fnutter rundt seg, som viser at de nå er strenger, selvom vi la de inn som `int`s og `bool`s. "
   ]
  },
  {
   "cell_type": "markdown",
   "metadata": {
    "hidden": true
   },
   "source": [
    "Arrays skiller seg også fra lister når det kommer til aritmetiske operasjoner. I motsetning til lister hvor for eksempel, elementene i listen blir replikert X når vi ganger listen med et tall, vil den aritmetiske operasjonen bli utført _på_ elementene i et array:"
   ]
  },
  {
   "cell_type": "code",
   "execution_count": 18,
   "metadata": {
    "hidden": true
   },
   "outputs": [
    {
     "name": "stdout",
     "output_type": "stream",
     "text": [
      "[3 4 5 6 7]\n",
      "[-1  0  1  2  3]\n",
      "[ 2  4  6  8 10]\n",
      "[0.5 1.  1.5 2.  2.5]\n"
     ]
    }
   ],
   "source": [
    "import numpy as np\n",
    "\n",
    "arr = np.array([1, 2, 3, 4, 5])\n",
    "print(arr + 2) # Legger til 2 på alle elementene i arrayet\n",
    "print(arr - 2) # Trekker fra 2 fra alle elementene i arrayet\n",
    "print(arr * 2) # Ganger alle elementer i arrayet med 2\n",
    "print(arr / 2) # Deler alle elementer i arrayet med 2"
   ]
  },
  {
   "cell_type": "markdown",
   "metadata": {
    "hidden": true
   },
   "source": [
    "Med arrayer kan vi tilogmed legge sammen/gange sammen/trekke fra eller dele forskjellige arrayer. En viktig ting når vi gjør dette er at alle array som inngår i operasjonene har like lengde:"
   ]
  },
  {
   "cell_type": "code",
   "execution_count": 19,
   "metadata": {
    "hidden": true
   },
   "outputs": [
    {
     "name": "stdout",
     "output_type": "stream",
     "text": [
      "[7 7 7 7 7 7]\n",
      "[-5 -3 -1  1  3  5]\n",
      "[0.16666667 0.4        0.75       1.33333333 2.5        6.        ]\n",
      "[ 6 10 12 12 10  6]\n"
     ]
    },
    {
     "ename": "ValueError",
     "evalue": "operands could not be broadcast together with shapes (6,) (3,) ",
     "output_type": "error",
     "traceback": [
      "\u001b[1;31m---------------------------------------------------------------------------\u001b[0m",
      "\u001b[1;31mValueError\u001b[0m                                Traceback (most recent call last)",
      "Cell \u001b[1;32mIn[19], line 12\u001b[0m\n\u001b[0;32m      9\u001b[0m \u001b[39mprint\u001b[39m(arr1 \u001b[39m*\u001b[39m arr2)\n\u001b[0;32m     11\u001b[0m arr3 \u001b[39m=\u001b[39m np\u001b[39m.\u001b[39marray([\u001b[39m1\u001b[39m, \u001b[39m2\u001b[39m, \u001b[39m3\u001b[39m])\n\u001b[1;32m---> 12\u001b[0m \u001b[39mprint\u001b[39m(arr1 \u001b[39m+\u001b[39;49m arr3)\n",
      "\u001b[1;31mValueError\u001b[0m: operands could not be broadcast together with shapes (6,) (3,) "
     ]
    }
   ],
   "source": [
    "import numpy as np\n",
    "\n",
    "arr1 = np.array([1, 2, 3, 4, 5, 6])\n",
    "arr2 = np.array([6, 5, 4, 3, 2, 1])\n",
    "\n",
    "print(arr1 + arr2)\n",
    "print(arr1 - arr2)\n",
    "print(arr1 / arr2)\n",
    "print(arr1 * arr2)\n",
    "\n",
    "arr3 = np.array([1, 2, 3])\n",
    "print(arr1 + arr3)"
   ]
  },
  {
   "cell_type": "markdown",
   "metadata": {
    "hidden": true
   },
   "source": [
    "Siste `print()` i kodeblokken over gir en feilmelding. Klarer du å se hvorfor? Og klarer du rette opp i det?"
   ]
  },
  {
   "cell_type": "markdown",
   "metadata": {
    "heading_collapsed": true,
    "run_control": {
     "frozen": true
    }
   },
   "source": [
    "## Tutorial: Konvertering mellom datatyper"
   ]
  },
  {
   "cell_type": "markdown",
   "metadata": {
    "deletable": false,
    "editable": false,
    "hidden": true,
    "run_control": {
     "frozen": true
    }
   },
   "source": [
    "Vi kan ha ulike typer data, som tekststrenger (f.eks. `\"Python\"`), heltall (f.eks. `42`), flyttall (f.eks. `9.80`) og sannhetsverdier (`True`, `False`). Ofte kommer vi i situasjoner hvor vi har data av en viss type, men vi trenger samme data bare med en annen type. Da må vi konvertere dataene. Noen vanlige konverteringsfunksjoner:\n",
    "\n",
    "**`int()`** - konverterer til heltall.\n",
    "- `int('423')` gir 423 (dvs. tekststrengen blir konvertert til et tall). Virker kun hvis tekststrengen faktisk inneholder et heltall.\n",
    "- `int(5.69)` gir 5 (dvs. for flyttall blir desimaldelen fjernet)\n",
    "\n",
    "**`float()`** - konverterer til flyttall\n",
    "- `float('5.69')` gir 5.69 (tekststreng konvertert til tall)\n",
    "- `float('5')` gir 5.0, dvs. float() virker på tekststrenger enten de inneholder flyttall eller heltall (men ikke på strenger som er noe annet enn tall)\n",
    "- `float(5)` gir 5.0\n",
    "\n",
    "**`str()`** - konverterer til tekststreng\n",
    "- `str(42)` gir '42'\n",
    "- `str(5.69)` gir '5.69'\n",
    "Koden under feiler fordi vi har glemt å konvertere. Kjør den og se hva som skjer."
   ]
  },
  {
   "cell_type": "code",
   "execution_count": 20,
   "metadata": {
    "hidden": true
   },
   "outputs": [
    {
     "name": "stdout",
     "output_type": "stream",
     "text": [
      "Gratulerer, til sammen er dere 1337 år!\n"
     ]
    },
    {
     "ename": "TypeError",
     "evalue": "can only concatenate str (not \"int\") to str",
     "output_type": "error",
     "traceback": [
      "\u001b[1;31m---------------------------------------------------------------------------\u001b[0m",
      "\u001b[1;31mTypeError\u001b[0m                                 Traceback (most recent call last)",
      "Cell \u001b[1;32mIn[20], line 9\u001b[0m\n\u001b[0;32m      5\u001b[0m \u001b[39mprint\u001b[39m(\u001b[39mf\u001b[39m\u001b[39m'\u001b[39m\u001b[39mGratulerer, til sammen er dere \u001b[39m\u001b[39m{\u001b[39;00msum_alder\u001b[39m}\u001b[39;00m\u001b[39m år!\u001b[39m\u001b[39m'\u001b[39m)\n\u001b[0;32m      7\u001b[0m sum_alder \u001b[39m=\u001b[39m \u001b[39mint\u001b[39m(alder) \u001b[39m+\u001b[39m \u001b[39mint\u001b[39m(alder_mor)\n\u001b[1;32m----> 9\u001b[0m \u001b[39mprint\u001b[39m(\u001b[39m'\u001b[39;49m\u001b[39mGratulerer, til sammen er dere \u001b[39;49m\u001b[39m'\u001b[39;49m \u001b[39m+\u001b[39;49m sum_alder \u001b[39m+\u001b[39m \u001b[39m'\u001b[39m\u001b[39m år!\u001b[39m\u001b[39m'\u001b[39m)\n",
      "\u001b[1;31mTypeError\u001b[0m: can only concatenate str (not \"int\") to str"
     ]
    }
   ],
   "source": [
    "alder = '13'\n",
    "alder_mor = '37'\n",
    "sum_alder = alder + alder_mor\n",
    "\n",
    "print(f'Gratulerer, til sammen er dere {sum_alder} år!')\n",
    "\n",
    "sum_alder = int(alder) + int(alder_mor)\n",
    "\n",
    "print('Gratulerer, til sammen er dere ' + sum_alder + ' år!')"
   ]
  },
  {
   "cell_type": "markdown",
   "metadata": {
    "hidden": true,
    "run_control": {
     "frozen": true
    }
   },
   "source": [
    "Den første feilen viser seg i linjen \"Gratulerer...\" Summen skulle ha blitt 50 år. Men vi har de to alderne fortsatt bare lagret som tekststrenger. Da betyr `+` å hekte sammen strengene, ikke å gjøre noen addisjon. Altså får vi `'13' + '37'` som blir `'1337'` heller enn `13 + 37` som blir `50`. Her måtte vi ha konvertert fra tekst til tall før vi gjorde addisjonen.\n",
    "\n",
    "Den andre feilen oppstår i den siste print-setningen. Vi har på linjen over kalkulert rett alder, ved å konvertere `alder` og `alder_mor` til `int`. Problemet nå ligger i at vi prøver å legge sammen en `string` og en `int`. Som feilmeldingen sier; \"can only concatenate str (not \"int\") to str\". En mulig løsning er å konvertere `sum_alder` tilbake til `string` nå, slik av vi kan plusse sammen to strenger, eller bruke f-strings. Mulige løsninger vises under:"
   ]
  },
  {
   "cell_type": "code",
   "execution_count": 21,
   "metadata": {
    "hidden": true
   },
   "outputs": [
    {
     "name": "stdout",
     "output_type": "stream",
     "text": [
      "Gratulerer, til sammen er dere 1337 år!\n",
      "Gratulerer, til sammen er dere 50 år!\n",
      "Gratulerer, til sammen er dere 50 år!\n"
     ]
    }
   ],
   "source": [
    "alder = '13'\n",
    "alder_mor = '37'\n",
    "sum_alder = alder + alder_mor\n",
    "\n",
    "print(f'Gratulerer, til sammen er dere {sum_alder} år!')\n",
    "\n",
    "sum_alder = int(alder) + int(alder_mor)\n",
    "\n",
    "print('Gratulerer, til sammen er dere ' + str(sum_alder) + ' år!')\n",
    "print(f'Gratulerer, til sammen er dere {sum_alder} år!')"
   ]
  },
  {
   "cell_type": "markdown",
   "metadata": {
    "hidden": true,
    "run_control": {
     "frozen": true
    }
   },
   "source": [
    "Altså: bruker `int()` i linje 7, dette gjør at vi får heltall i variablene `alder` og `alder_mor` så vi blir i stand til å regne med dem. Bruker deretter `str()` i linje 9 så denne opplysningen kan settes sammen med annen tekst og brukes i `print()`. Dette eksemplet viser dermed både et tilfelle hvor vi har tekst men trenger tall, og ett hvor vi har et tall men trenger tekst. Hvis det er vi trenger et desimaltall på alder (f.eks. `13.5`) vil imidlertid koden over ikke funke. Da måtte vi ha brukt funksjonen `float()` der vi nå har brukt `int()`."
   ]
  },
  {
   "cell_type": "markdown",
   "metadata": {
    "deletable": false,
    "editable": false,
    "heading_collapsed": true,
    "run_control": {
     "frozen": true
    }
   },
   "source": [
    "## Oppgave a: obligatorisk"
   ]
  },
  {
   "cell_type": "markdown",
   "metadata": {
    "hidden": true,
    "run_control": {
     "frozen": true
    }
   },
   "source": [
    "I koden under er det noe feil. Finn feilene og rett opp i de"
   ]
  },
  {
   "cell_type": "markdown",
   "metadata": {
    "hidden": true,
    "run_control": {
     "frozen": true
    }
   },
   "source": [
    "Rett utskrift skal være:\n",
    "\n",
    "```python\n",
    "25\n",
    "```"
   ]
  },
  {
   "cell_type": "code",
   "execution_count": 23,
   "metadata": {
    "ExecuteTime": {
     "end_time": "2019-07-01T11:24:13.550825Z",
     "start_time": "2019-07-01T11:24:13.542723Z"
    },
    "hidden": true
   },
   "outputs": [
    {
     "data": {
      "text/plain": [
       "25"
      ]
     },
     "execution_count": 23,
     "metadata": {},
     "output_type": "execute_result"
    }
   ],
   "source": [
    "def legg_sammen_to_tall(a, b):\n",
    "    return int(a) + int(b)\n",
    "\n",
    "legg_sammen_to_tall(10, 15)"
   ]
  },
  {
   "cell_type": "markdown",
   "metadata": {
    "deletable": false,
    "editable": false,
    "heading_collapsed": true,
    "run_control": {
     "frozen": true
    }
   },
   "source": [
    "## Oppgave b: obligatorisk"
   ]
  },
  {
   "cell_type": "markdown",
   "metadata": {
    "hidden": true,
    "run_control": {
     "frozen": true
    }
   },
   "source": [
    "Lag en funksjon `legg_til_landskode(telefonnummer, landskode)` som tar inn `telefonnummer` (`int`) og `landskode` (`int`) som parametere og returnerer telefonnummetet prefixet med \"+\", landskode og et mellomrom.\n",
    "\n",
    "***Skriv koden din i kodeblokken udner***"
   ]
  },
  {
   "cell_type": "code",
   "execution_count": 29,
   "metadata": {
    "hidden": true
   },
   "outputs": [],
   "source": [
    "def legg_til_landskode(telefonnummer, landskode):\n",
    "    return(f\"+{landskode} {telefonnummer}\")"
   ]
  },
  {
   "cell_type": "markdown",
   "metadata": {
    "hidden": true
   },
   "source": [
    "Hvis du har gjort alt rett, skal kodeblokken under gi ut:\n",
    "\n",
    "```python\n",
    "+47 12345678\n",
    "+46 87654321\n",
    "```"
   ]
  },
  {
   "cell_type": "code",
   "execution_count": 30,
   "metadata": {
    "hidden": true
   },
   "outputs": [
    {
     "name": "stdout",
     "output_type": "stream",
     "text": [
      "+47 12345678\n",
      "+46 87654321\n"
     ]
    }
   ],
   "source": [
    "telefonnummer1 = 12345678\n",
    "landskode1 = 47\n",
    "\n",
    "telefonnummer2 = 87654321\n",
    "landskode2 = 46\n",
    "\n",
    "print(legg_til_landskode(telefonnummer1, landskode1))\n",
    "print(legg_til_landskode(telefonnummer2, landskode2))"
   ]
  },
  {
   "cell_type": "markdown",
   "metadata": {
    "heading_collapsed": true
   },
   "source": [
    "## Oppgave c: obligatorisk"
   ]
  },
  {
   "cell_type": "markdown",
   "metadata": {
    "hidden": true
   },
   "source": [
    "Kodeblokken nedenfor innheholder noen variabler. Konverter alle til `int`. **Merk**: Det lurer seg kanskje noen feil i koden!"
   ]
  },
  {
   "cell_type": "code",
   "execution_count": 47,
   "metadata": {
    "hidden": true
   },
   "outputs": [],
   "source": [
    "a = '1'\n",
    "b = True\n",
    "c = False\n",
    "d = '1.5'\n",
    "e = '2,45'\n",
    "\n",
    "a = int(a)\n",
    "b = int(b)\n",
    "c = int(c)\n",
    "d = int(float(d))\n",
    "e = int(float(e.replace(',', '.')))"
   ]
  },
  {
   "cell_type": "markdown",
   "metadata": {
    "hidden": true
   },
   "source": [
    "Hvis du har gjort alt rett, skal kodeblokken under skrive ut:\n",
    "\n",
    "```python\n",
    "a er nå 1\n",
    "b er nå 1\n",
    "c er nå 0\n",
    "d er nå 1\n",
    "e er nå 2\n",
    "```"
   ]
  },
  {
   "cell_type": "code",
   "execution_count": 48,
   "metadata": {
    "hidden": true
   },
   "outputs": [
    {
     "name": "stdout",
     "output_type": "stream",
     "text": [
      "a er nå 1\n",
      "b er nå 1\n",
      "c er nå 0\n",
      "d er nå 1\n",
      "e er nå 2\n"
     ]
    }
   ],
   "source": [
    "print(f'a er nå {a}')\n",
    "print(f'b er nå {b}')\n",
    "print(f'c er nå {c}')\n",
    "print(f'd er nå {d}')\n",
    "print(f'e er nå {e}')"
   ]
  },
  {
   "cell_type": "markdown",
   "metadata": {
    "heading_collapsed": true
   },
   "source": [
    "## Oppgave d: frivillig"
   ]
  },
  {
   "cell_type": "markdown",
   "metadata": {
    "hidden": true
   },
   "source": [
    "Lag en funksjon `mult_list_with_x(l, x)` som tar inn en liste `l` og skalar `x` som parametere og returnerer en _liste_ hvor alle elementene er multiplisert med `x`.\n",
    "\n",
    "***Skriv koden din i kodeblokken nedenfor***"
   ]
  },
  {
   "cell_type": "code",
   "execution_count": 18,
   "metadata": {
    "hidden": true
   },
   "outputs": [],
   "source": [
    "import numpy as np\n",
    "\n",
    "def mult_list_with_x(l, x):\n",
    "    l = np.array(l) * x\n",
    "    return list(l)"
   ]
  },
  {
   "cell_type": "markdown",
   "metadata": {
    "hidden": true
   },
   "source": [
    "Hvis funksjonen din er skrevet rett, skal kodeblokken nedenfor gi output:\n",
    "\n",
    "```python\n",
    "[2.0, 3.0, 4.0, 5.0, 6.0]\n",
    "```"
   ]
  },
  {
   "cell_type": "code",
   "execution_count": 19,
   "metadata": {
    "hidden": true
   },
   "outputs": [
    {
     "data": {
      "text/plain": [
       "[2.0, 3.0, 4.0, 5.0, 6.0]"
      ]
     },
     "execution_count": 19,
     "metadata": {},
     "output_type": "execute_result"
    }
   ],
   "source": [
    "liste = [1, 1.5, 2, 2.5, 3]\n",
    "skalar = 2\n",
    "\n",
    "mult_list_with_x(liste, skalar)"
   ]
  },
  {
   "cell_type": "markdown",
   "metadata": {
    "heading_collapsed": true,
    "hidden": true
   },
   "source": [
    "### Hint"
   ]
  },
  {
   "cell_type": "markdown",
   "metadata": {
    "hidden": true
   },
   "source": [
    "Her må du bruke **numpy** og `np.array()`. For å gjøre om fra et array til en liste kan du bruke `list()`. Husk også å importere **numpy** med `import numpy as np`."
   ]
  },
  {
   "cell_type": "markdown",
   "metadata": {
    "heading_collapsed": true,
    "run_control": {
     "frozen": true
    }
   },
   "source": [
    "## Tutorial del 2: avrunding av flyttall"
   ]
  },
  {
   "cell_type": "markdown",
   "metadata": {
    "deletable": false,
    "editable": false,
    "hidden": true,
    "run_control": {
     "frozen": true
    }
   },
   "source": [
    "Ofte har man flyttall, men trenger heltall, f.eks. hvis man skal bruke innebygde Python-funksjoner som krever heltall som argument, eller skal bruke tallet som indeks til en streng eller liste (som vi vil se senere i pensum). Flyttall kan konverteres til heltall med funksjoner som `int()` eller `round()`. Kodeblokka under viser litt forskjell på hvordan disse virker."
   ]
  },
  {
   "cell_type": "code",
   "execution_count": 20,
   "metadata": {
    "hidden": true
   },
   "outputs": [
    {
     "name": "stdout",
     "output_type": "stream",
     "text": [
      "int() bare kutter desimalene, uansett hvor stor eller liten desimaldelen er:\n",
      "int(2.25) er 2\n",
      "int(2.5) er 2\n",
      "int(2.99) er 2\n",
      "round() runder av til nærmeste heltall, f.eks.\n",
      "round(2.25) er 2\n",
      "round(2.51) er 3\n",
      "Hva hvis tallet er midt mellom to heltall?\n",
      "round(2.5) er 2\n",
      "round(3.5) er 4\n",
      "round() bruker en IEEE standard som velger partallet for midt-imellom-situasjoner.\n",
      "Mens int() alltid gir heltall kan round() brukes for antall desimaler:\n",
      "round(2.5488, 1) blir 2.5\n",
      "round(2.5488, 3) blir 2.549\n",
      "Med negativt antall desimaler kan vi få round() til å runde større enn heltall:\n",
      "round(12345.67, -3) blir 12000.0\n"
     ]
    }
   ],
   "source": [
    "print(\"int() bare kutter desimalene, uansett hvor stor eller liten desimaldelen er:\")\n",
    "print(\"int(2.25) er\", int(2.25))\n",
    "print(\"int(2.5) er\", int(2.5))\n",
    "print(\"int(2.99) er\", int(2.99))\n",
    "print(\"round() runder av til nærmeste heltall, f.eks.\")\n",
    "print(\"round(2.25) er\", round(2.25))\n",
    "print(\"round(2.51) er\", round(2.51))\n",
    "print(\"Hva hvis tallet er midt mellom to heltall?\")\n",
    "print(\"round(2.5) er\", round(2.5))\n",
    "print(\"round(3.5) er\", round(3.5))\n",
    "print(\"round() bruker en IEEE standard som velger partallet for midt-imellom-situasjoner.\")\n",
    "print(\"Mens int() alltid gir heltall kan round() brukes for antall desimaler:\")\n",
    "print(\"round(2.5488, 1) blir\", round(2.5488, 1))\n",
    "print(\"round(2.5488, 3) blir\", round(2.5488, 3))\n",
    "print(\"Med negativt antall desimaler kan vi få round() til å runde større enn heltall:\")\n",
    "print(\"round(12345.67, -3) blir\", round(12345.67, -3))"
   ]
  },
  {
   "cell_type": "markdown",
   "metadata": {
    "deletable": false,
    "editable": false,
    "hidden": true,
    "run_control": {
     "frozen": true
    }
   },
   "source": [
    "Som du ser i eksemplet, blir 2.5 rundet av til 2 mens 3.5 blir rundet til 4. Dette kan virke litt uvant, i dagliglivet er man mest kjent med såkalt \"kjøpmannsavrunding\", hvor det alltid rundes opp hvis man er midt mellom (dvs., 2.5 skulle i så fall ha blitt rundet til 3). Konsekvent runding oppover når man er midt mellom har imidlertid en uheldig side, nemlig at man pådrar seg en systematisk feil hvis man har mange data som avrundes. Tenk f.eks. temperaturmålinger for lange perioder, hvor man deretter skal regne ut et snitt for hele perioden. Hvis alle temperaturer som er midt når det gjelder siste brukte siffer, rundes opp, vil snittet for perioden alltid bli litt for høyt. Hvis man i stedet går i partallsretning i alle slike midt mellom situasjoner, vil man runde opp cirka halvparten av gangene og ned cirka halvparten av gangene og dermed unngå slike systematiske feil. Men for kjøpmannen er systematisk runding oppover selvsagt bedre med tanke på å få inn mest mulig penger."
   ]
  },
  {
   "cell_type": "markdown",
   "metadata": {
    "hidden": true
   },
   "source": [
    "I tillegg til `int()` og `round()` kan f-strenger \"innebygd\" runde av flyttall:"
   ]
  },
  {
   "cell_type": "code",
   "execution_count": 21,
   "metadata": {
    "hidden": true
   },
   "outputs": [
    {
     "name": "stdout",
     "output_type": "stream",
     "text": [
      "1.2345 avrundet til 2 desimaler er: 1.23\n",
      "5.4321 avrundet til 0 desimaler er: 5\n"
     ]
    }
   ],
   "source": [
    "print(f'1.2345 avrundet til 2 desimaler er: {1.2345:.2f}')\n",
    "print(f'5.4321 avrundet til 0 desimaler er: {5.4321:.0f}')"
   ]
  },
  {
   "cell_type": "markdown",
   "metadata": {
    "hidden": true
   },
   "source": [
    "Det som skjer her inne i krøllparentesene her er; `1.2345` er tallet vi ønsker runde av, `:` sier \"rund av det som står til venstre til det som står til høyre\", `.2` sier \"gi meg 2 desimaler\" og `f` sier at typen skal være `float`. Det som er verdt å merke seg er at denne måten å runde av tall på gir deg ikke muligheten til å bruke tallet videre. Tallet er da inkorporert i strengen. Med `round()` og `int()` kan vi bruke det avrundede tallet videre."
   ]
  },
  {
   "cell_type": "markdown",
   "metadata": {
    "heading_collapsed": true,
    "run_control": {
     "frozen": true
    }
   },
   "source": [
    "## Oppgave e: obligatorisk"
   ]
  },
  {
   "cell_type": "markdown",
   "metadata": {
    "hidden": true,
    "run_control": {
     "frozen": true
    }
   },
   "source": [
    "Lag en funksjon `rund_av(tall, desimaler)` som tar inn et tall `tall` som skal avrundes og `desimaler` antall desimaler tallet skal avrundes til som parametere og returnerer det avrundede tallet.\n",
    "\n",
    "***Skriv koden din i kodeblokken under.***"
   ]
  },
  {
   "cell_type": "code",
   "execution_count": 22,
   "metadata": {
    "hidden": true
   },
   "outputs": [],
   "source": [
    "def rund_av(tall, desimaler):\n",
    "    return round(tall, desimaler)"
   ]
  },
  {
   "cell_type": "markdown",
   "metadata": {
    "hidden": true
   },
   "source": [
    "Hvis funksjonen din er skrevet rett, skal kodeblokken under gi følgende output:\n",
    "\n",
    "```python\n",
    "1.23\n",
    "1000.0\n",
    "```"
   ]
  },
  {
   "cell_type": "code",
   "execution_count": 23,
   "metadata": {
    "hidden": true
   },
   "outputs": [
    {
     "name": "stdout",
     "output_type": "stream",
     "text": [
      "1.23\n",
      "1000.0\n"
     ]
    }
   ],
   "source": [
    "print(rund_av(1.23456, 2))\n",
    "print(rund_av(1234.5432, -3))"
   ]
  }
 ],
 "metadata": {
  "kernelspec": {
   "display_name": "Python 3 (ipykernel)",
   "language": "python",
   "name": "python3"
  },
  "language_info": {
   "codemirror_mode": {
    "name": "ipython",
    "version": 3
   },
   "file_extension": ".py",
   "mimetype": "text/x-python",
   "name": "python",
   "nbconvert_exporter": "python",
   "pygments_lexer": "ipython3",
   "version": "3.11.4"
  },
  "toc": {
   "base_numbering": 1,
   "nav_menu": {},
   "number_sections": false,
   "sideBar": true,
   "skip_h1_title": false,
   "title_cell": "Table of Contents",
   "title_sidebar": "Contents",
   "toc_cell": false,
   "toc_position": {},
   "toc_section_display": true,
   "toc_window_display": false
  }
 },
 "nbformat": 4,
 "nbformat_minor": 2
}
