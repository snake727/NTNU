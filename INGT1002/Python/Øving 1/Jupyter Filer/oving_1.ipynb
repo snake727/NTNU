{
 "cells": [
  {
   "cell_type": "markdown",
   "metadata": {
    "run_control": {
     "frozen": true
    }
   },
   "source": [
    "# Øving 1\n",
    "\n",
    "**Læringsmål:**\n",
    "\n",
    "* Kunne bruke vanlige regneoperatorer i Python: addisjon + , subtraksjon – , multiplikasjon * , divisjon / , heltallsdivisjon '// , modulo % og potens **\n",
    "* Forstå forskjellen på de fire elementære datatypene: heltall (int), flyttall (float), tekststrenger (str) og sannhetsverdier (boolean)\n",
    "* Skjønne hvordan regneoperatorene virker for de ulike datatypene\n",
    "* Kunne bruke vitenskapelig notasjon for spesielt små og spesielt store flyttall\n",
    "* Forstå at kode må være uten feil for å kjøre, og kunne rette enkle syntaksfeil\n",
    "* Forstå hvorfor og hvordan vi bruker variable i programmering, og at variabeltilordning ikke er det samme som matematisk likhet\n",
    "* Kunne skrive ut til skjerm og lese inn data fra brukeren via tastaturet med standardfunksjonene print() og input()\n",
    "* Kunne utføre enkel konvertering mellom datatyper med standardfunksjoner som int() og float()\n",
    "\n",
    " \n",
    "\n",
    "## Godkjenning:\n",
    "\n",
    "For å få godkjent øvingen må du gjøre minimum de obligatoriske oppgavene under [Funksjoner og kalkulasjoner](funksjoner_og_kalkulasjoner.ipynb), [Tall- og Typekonvertering](tall_og_typekonvertering.ipynb), [Variabler](variabler.ipynb), avrundingsfeil [subtraksjon](avrundingsfeil_subtraksjon.ipynb), og avrundingsfeil [summering](avrundingsfeil_summering.ipynb). \n",
    "\n",
    "## Oppgaver\n",
    "\n",
    "\n",
    "- <a href=\"intro_til_jupyter.ipynb\">Intro til Jupyter</a>\n",
    "- <a href=\"funksjoner_og_kalkulasjoner.ipynb\">Funksjoner og kalkulasjoner</a>\n",
    "- <a href=\"tall_og_typekonvertering.ipynb\">Tall- og Typekonvertering</a>\n",
    "- <a href=\"variable.ipynb\">Variable</a>\n",
    "- <a href=\"priser_med_og_uten_moms.ipynb\">Priser med og uten moms</a>\n",
    "- <a href=\"avrundingsfeil_subtraksjon.ipynb\">Avrundingsfeil - subtraksjon</a>\n",
    "- <a href=\"avrundingsfeil_summering.ipynb\">Avrundingsfeil - summering</a>\n",
    "- <a href=\"vitenskapelig_notasjon.ipynb\">Vitenskapelig notasjon</a>"
   ]
  }
 ],
 "metadata": {
  "celltoolbar": "Edit Metadata",
  "kernelspec": {
   "display_name": "Python 3.9.10 64-bit (windows store)",
   "language": "python",
   "name": "python3"
  },
  "language_info": {
   "codemirror_mode": {
    "name": "ipython",
    "version": 3
   },
   "file_extension": ".py",
   "mimetype": "text/x-python",
   "name": "python",
   "nbconvert_exporter": "python",
   "pygments_lexer": "ipython3",
   "version": "3.9.10"
  },
  "toc": {
   "base_numbering": 1,
   "nav_menu": {},
   "number_sections": false,
   "sideBar": true,
   "skip_h1_title": false,
   "title_cell": "Table of Contents",
   "title_sidebar": "Contents",
   "toc_cell": false,
   "toc_position": {},
   "toc_section_display": true,
   "toc_window_display": false
  },
  "vscode": {
   "interpreter": {
    "hash": "84613ed7f399af20e1e2ef8af506be689ae865345b9dceeaa3cba33ce1bef069"
   }
  }
 },
 "nbformat": 4,
 "nbformat_minor": 2
}
