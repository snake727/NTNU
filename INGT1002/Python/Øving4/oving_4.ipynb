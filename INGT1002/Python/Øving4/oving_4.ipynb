{
 "cells": [
  {
   "cell_type": "markdown",
   "metadata": {
    "deletable": false,
    "editable": false,
    "run_control": {
     "frozen": true
    }
   },
   "source": [
    "# Øving 4\n",
    "\n",
    "**Læringsmål:**  \n",
    "\n",
    "* Lister\n",
    "* Numpy\n",
    "* Nettverk\n",
    "\n",
    "I denne øvingen finner du både obligatoriske og frivillige oppgaver. Alle oppgavene er relevante i forbindelse med eksamen og dermed en del av pensum. Det anbefales derfor at du løse alle oppgavene.\n",
    "\n",
    "## Godkjenning:\n",
    "\n",
    "For å få godkjent øvingen må du gjøre [gangetabell og lister](gangetabell_og_lister.ipynb), [lister og løkker](lister_og_lokker.ipynb), [intro til numpy-arrays](intro_til_numpy-arrays.ipynb), og [vektorer](vektorer.ipynb).\n",
    "\n",
    "## Oppgaver\n",
    "\n",
    "- [Generelt om lister](generelt_om_lister.ipynb)\n",
    "- [Gangetabell og lister](gangetabell_og_lister.ipynb)\n",
    "- [Lister og løkker](lister_og_lokker.ipynb)\n",
    "- [Intro til numpy-arrays](intro_til_numpy-arrays.ipynb)\n",
    "- [Vektorer](vektorer.ipynb)\n",
    "- [Lotto](lotto.ipynb)"
   ]
  }
 ],
 "metadata": {
  "kernelspec": {
   "display_name": "Python 3.10.6 64-bit",
   "language": "python",
   "name": "python3"
  },
  "language_info": {
   "codemirror_mode": {
    "name": "ipython",
    "version": 3
   },
   "file_extension": ".py",
   "mimetype": "text/x-python",
   "name": "python",
   "nbconvert_exporter": "python",
   "pygments_lexer": "ipython3",
   "version": "3.10.6"
  },
  "toc": {
   "base_numbering": 1,
   "nav_menu": {},
   "number_sections": false,
   "sideBar": true,
   "skip_h1_title": false,
   "title_cell": "Table of Contents",
   "title_sidebar": "Contents",
   "toc_cell": false,
   "toc_position": {},
   "toc_section_display": true,
   "toc_window_display": false
  },
  "vscode": {
   "interpreter": {
    "hash": "aee8b7b246df8f9039afb4144a1f6fd8d2ca17a180786b69acc140d282b71a49"
   }
  }
 },
 "nbformat": 4,
 "nbformat_minor": 2
}
