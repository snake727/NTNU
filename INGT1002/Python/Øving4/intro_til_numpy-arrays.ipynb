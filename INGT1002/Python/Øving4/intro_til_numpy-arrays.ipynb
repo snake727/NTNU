{
 "cells": [
  {
   "cell_type": "markdown",
   "metadata": {
    "deletable": false,
    "editable": false,
    "run_control": {
     "frozen": true
    }
   },
   "source": [
    "# Numpy Arrays\n",
    "\n",
    "**Læringsmål:**\n",
    "\n",
    "* Lister\n",
    "* Numpy\n",
    "\n",
    " \n",
    "\n",
    "\n",
    "Denne oppgaven er obligatorisk, og er en kjapp introduksjon til en form for lister som ofte gir bedre ytelse og kjøretid enn Pythons innebygde lister. Dette gjelder særlig når man har matrisestrukturer og skal jobbe med store datasett.\n",
    "\n",
    "NumPy-arrays finnes i pakken numpy, som kan importeres i Jupyter ved å skrive f.eks import numpy as np.\n",
    "```python\n",
    "import numpy as np    #numpy as np gjør at vi bare trenger å skrive np.array() og ikke numpy.array() etc.\n",
    "```\n",
    "\n",
    "For å løse deloppgavene kan det være lurt å se på [dokumentasjonen til NumPy](https://numpy.org/doc/stable/reference/). "
   ]
  },
  {
   "cell_type": "markdown",
   "metadata": {
    "deletable": false,
    "editable": false,
    "run_control": {
     "frozen": true
    }
   },
   "source": [
    "## Oppgave a: obligatorisk"
   ]
  },
  {
   "cell_type": "markdown",
   "metadata": {
    "deletable": false,
    "editable": false,
    "run_control": {
     "frozen": true
    }
   },
   "source": [
    "Bruk funksjonene **np.array()** og **np.dot()** for å lage en funksjon areOrthogonal(a,b) som tar inn to vanlige lister som representerer to vektorer, konverterer dem til Numpy-arrays og deretter sjekker om vektorene er ortogonale. Funksjonen returnerer altså den boolske verdien True dersom de er ortogonale, og False hvis ikke.\n",
    "\n",
    "*NB: Du kan anta at de to input-vektorene er av samme lengde og kun inneholder tall.*\n",
    "\n",
    "***Skriv koden din i boksen under.***"
   ]
  },
  {
   "cell_type": "code",
   "execution_count": null,
   "metadata": {},
   "outputs": [],
   "source": []
  },
  {
   "cell_type": "markdown",
   "metadata": {
    "deletable": false,
    "editable": false,
    "heading_collapsed": true,
    "run_control": {
     "frozen": true
    }
   },
   "source": [
    "#### Hint"
   ]
  },
  {
   "cell_type": "markdown",
   "metadata": {
    "deletable": false,
    "editable": false,
    "hidden": true,
    "run_control": {
     "frozen": true
    }
   },
   "source": [
    "Husk fra R2 (ev. 3MX for de som hadde det...) at to vektorer er ortogonale dersom prikkproduktet deres er lik 0."
   ]
  },
  {
   "cell_type": "markdown",
   "metadata": {
    "deletable": false,
    "editable": false,
    "run_control": {
     "frozen": true
    }
   },
   "source": [
    "## Oppgave b: frivillig"
   ]
  },
  {
   "cell_type": "markdown",
   "metadata": {
    "deletable": false,
    "editable": false,
    "run_control": {
     "frozen": true
    }
   },
   "source": [
    "Bruk *kun* numpy-funksjonene `np.arange()`, `np.transpose()` og `arr.reshape()` (der **arr** er et objekt av typen numpy.ndarray) for å skape den følgende matrisen. \n",
    "\n",
    "Start med å lese om [np.arange()](https://docs.scipy.org/doc/numpy/reference/generated/numpy.arange.html), [np.reshape()](https://docs.scipy.org/doc/numpy-1.10.1/reference/generated/numpy.reshape.html) og [np.transpose()](https://docs.scipy.org/doc/numpy/reference/generated/numpy.transpose.html). Du skal bruke disse funksjonene i rekkefølge med riktig input for å få resultet nedenfor (**ikke lag arrayen med np.array()**). \n",
    "\n",
    "```python\n",
    "array([[ 1,  6, 11],\n",
    "       [ 2,  7, 12],\n",
    "       [ 3,  8, 13],\n",
    "       [ 4,  9, 14],\n",
    "       [ 5, 10, 15]])\n",
    "       ```\n",
    "       \n",
    "***Skriv koden din i boksen under.***"
   ]
  },
  {
   "cell_type": "code",
   "execution_count": null,
   "metadata": {},
   "outputs": [],
   "source": []
  },
  {
   "cell_type": "markdown",
   "metadata": {
    "deletable": false,
    "editable": false,
    "run_control": {
     "frozen": true
    }
   },
   "source": [
    "## Oppgave c: obligatorisk"
   ]
  },
  {
   "cell_type": "markdown",
   "metadata": {
    "deletable": false,
    "editable": false,
    "run_control": {
     "frozen": true
    }
   },
   "source": [
    "Oppgaven under viser et eksempel på hvordan man kan plotte ting i python. Oppgaven din er å kjøre koden og prøve å forstå hvordan den fungerer.\n",
    "\n",
    "Koden plotter jordens omløpsbane rundt solen ved bruk av den numeriske algoritmen; Euler-Cromer. Her ser vi for oss et todimensjonalt koordinatsystem med Solen i origo og Jorden som kretser rundt Solen med radius lik 1. "
   ]
  },
  {
   "cell_type": "code",
   "execution_count": null,
   "metadata": {
    "ExecuteTime": {
     "end_time": "2019-07-03T11:17:37.086757Z",
     "start_time": "2019-07-03T11:17:36.002193Z"
    }
   },
   "outputs": [],
   "source": [
    "import numpy as np\n",
    "import matplotlib.pyplot as plt\n",
    "%matplotlib inline\n",
    " \n",
    "def EulerCromer( tmax, x0, y0, v0, u0, m, tau):\n",
    "    # tmax er tiden jorden bruker rundt solen\n",
    "    # x0 og y0 er startbetingelser for jordens posisjon\n",
    "    # v0 og u0 er starbetingelser for farten til jorden\n",
    "    # m er massen til jorden og tau er steglengden.\n",
    " \n",
    "    N = int(round(tmax/tau))   #np.zeros(N) lager en liste bestående av bare 0ere av lengde N\n",
    "    x = np.zeros(N)\n",
    "    y = np.zeros(N)\n",
    "    u = np.zeros(N)\n",
    "    v = np.zeros(N)\n",
    "    radiuser = np.zeros(N)\n",
    " \n",
    "    # startbetingelser\n",
    "    u[0] = u0\n",
    "    v[0] = v0\n",
    "    x[0] = x0\n",
    "    y[0] = y0\n",
    "    radiuser[0] = np.sqrt((x[0]) ** 2 + (y[0]) ** 2)\n",
    " \n",
    "    for n in range(1, N):\n",
    "        u[n] = u[n - 1] - 4 * np.pi ** 2 * x[n - 1] * tau / (radiuser[n - 1] ** 3)\n",
    "        v[n] = v[n - 1] - 4 * np.pi ** 2 * y[n - 1] * tau / (radiuser[n - 1] ** 3)\n",
    "        x[n] = x[n - 1] + u[n] * tau\n",
    "        y[n] = y[n - 1] + v[n] * tau\n",
    "        radiuser[n] = np.sqrt((x[n]) ** 2 + (y[n]) ** 2)\n",
    " \n",
    " \n",
    "    return x, y  # posisjons- og farts-lister\n",
    " \n",
    "# startbetingelser:\n",
    "x0 = 1    # Tenk deg at solen er i origo og at jorden starter i posisjon(1,0)\n",
    "y0 = 0\n",
    "u0 = 0    # startfarten i x-retning er 0\n",
    "v0 = 2*3.1415623   # startfarten i y-retning er 2*pi\n",
    "m =  1 / 333480    # dette er massen til Jorden i forhold til massen til Solen\n",
    "tmax = 1           # Omløpstiden rundt Solen er 1(år)\n",
    "tau = 0.01         # denne skrittlengden er såpass liten at plottet blir fint nok\n",
    " \n",
    "x1, y1 = EulerCromer(tmax, x0, y0, v0, u0, m, tau)\n",
    " \n",
    "# Plotter banen til planeten rundt sola\n",
    "plt.figure()\n",
    "plt.plot(x1, y1)\n",
    "circle = plt.Circle((0, 0), radius=0.06, fc='yellow')\n",
    "plt.gca().add_patch(circle)\n",
    "plt.xlabel(r'x [AU]')\n",
    "plt.ylabel(r'y [AU]')\n",
    "plt.show()"
   ]
  }
 ],
 "metadata": {
  "kernelspec": {
   "display_name": "Python 3.10.6 64-bit",
   "language": "python",
   "name": "python3"
  },
  "language_info": {
   "codemirror_mode": {
    "name": "ipython",
    "version": 3
   },
   "file_extension": ".py",
   "mimetype": "text/x-python",
   "name": "python",
   "nbconvert_exporter": "python",
   "pygments_lexer": "ipython3",
   "version": "3.10.6"
  },
  "toc": {
   "base_numbering": 1,
   "nav_menu": {},
   "number_sections": false,
   "sideBar": true,
   "skip_h1_title": false,
   "title_cell": "Table of Contents",
   "title_sidebar": "Contents",
   "toc_cell": false,
   "toc_position": {},
   "toc_section_display": true,
   "toc_window_display": false
  },
  "vscode": {
   "interpreter": {
    "hash": "aee8b7b246df8f9039afb4144a1f6fd8d2ca17a180786b69acc140d282b71a49"
   }
  }
 },
 "nbformat": 4,
 "nbformat_minor": 2
}
