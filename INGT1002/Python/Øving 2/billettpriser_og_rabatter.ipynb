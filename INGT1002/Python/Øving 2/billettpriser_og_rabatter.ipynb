{
 "cells": [
  {
   "cell_type": "markdown",
   "metadata": {},
   "source": [
    "# Billettpriser og rabatter\n",
    "\n",
    "**Læringsmål:**\n",
    "\n",
    "* Betingelser\n",
    "\n",
    "I denne oppgaven skal du bruke betingelser (if-elif-else) til å bestemme billettprisen til en bruker basert på input fra brukeren. \n",
    "\n",
    "Transportselskapet «TravelevatoR» tilbyr reiser fra Trondheim til Pythonville. Ved bestilling minst 14 dager før man skal reise, kan man få minipris 199. Normal billett koster 440. "
   ]
  },
  {
   "cell_type": "markdown",
   "metadata": {
    "deletable": false,
    "editable": false,
    "run_control": {
     "frozen": true
    }
   },
   "source": [
    "## Oppgave a: frivillig"
   ]
  },
  {
   "cell_type": "markdown",
   "metadata": {
    "deletable": false,
    "run_control": {
     "frozen": true
    }
   },
   "source": [
    "Skriv en funskjon med to mulige oppførsler som vist under:\n",
    "\n",
    "  \n",
    "```python\n",
    ">>>billettpris(15)\n",
    "  \n",
    "Du kan få minipris: 199,-  \n",
    "```\n",
    "\n",
    "```python\n",
    ">>>billettpris(10)\n",
    "\n",
    "Minipris ikke lenger tilgjengelig, du må betale fullpris: 440,-  \n",
    "```\n",
    "***Skriv koden din under***"
   ]
  },
  {
   "cell_type": "code",
   "execution_count": 5,
   "metadata": {
    "ExecuteTime": {
     "end_time": "2019-07-02T08:22:50.607851Z",
     "start_time": "2019-07-02T08:22:50.600802Z"
    }
   },
   "outputs": [
    {
     "name": "stdout",
     "output_type": "stream",
     "text": [
      "Minipris ikke lenger tilgjengelig, du må betale fullpris: 440,-\n",
      "Du kan få minipris: 199,-\n"
     ]
    }
   ],
   "source": [
    "def bilettpris(tall):\n",
    "    if tall == 15:\n",
    "        return print(\"Du kan få minipris: 199,-\")\n",
    "    elif tall == 10:\n",
    "        return print(\"Minipris ikke lenger tilgjengelig, du må betale fullpris: 440,-\")\n",
    "    \n",
    "bilettpris(10)\n",
    "bilettpris(15)\n"
   ]
  },
  {
   "cell_type": "markdown",
   "metadata": {
    "deletable": false,
    "editable": false,
    "run_control": {
     "frozen": true
    }
   },
   "source": [
    "## Oppgave b: frivillig"
   ]
  },
  {
   "cell_type": "markdown",
   "metadata": {
    "deletable": false,
    "run_control": {
     "frozen": true
    }
   },
   "source": [
    "Det hender av og til at kunder ikke ønsker minipris, men heller vil ha fullprisbillett. Dette fordi minipris ikke kan refunderes / endres. Utvid derfor funksjonen så kunder kan legge til informasjon om de ønsker minipris – men kun der det er relevant. To eksempel på kjøring etter utvidelsen:\n",
    "\n",
    "  \n",
    "```python\n",
    ">>>billetpris(15, 'J')\n",
    "\n",
    "Du kan få minipris og ønsker dette, billettpris: 199,-\n",
    "```\n",
    "  \n",
    "```python\n",
    ">>>billetpris(15, 'N')\n",
    "\n",
    "Du kan få minipris, men ønsker ikke det. Da tilbyr vi fullpris: 440,-\n",
    "```\n",
    "\n",
    "***Skriv koden din under***"
   ]
  },
  {
   "cell_type": "code",
   "execution_count": 7,
   "metadata": {},
   "outputs": [
    {
     "name": "stdout",
     "output_type": "stream",
     "text": [
      "Minipris ikke lenger tilgjengelig, du må betale fullpris: 440,-\n",
      "Du kan få minipris: 199,-\n",
      "Du kan få minipris, men ønsker ikke det. Da tilbyr vi fullpris: 440,-\n"
     ]
    }
   ],
   "source": [
    "def bilettpris(tall, valg):\n",
    "    if tall == 15 and valg == \"J\":\n",
    "        return print(\"Du kan få minipris: 199,-\")\n",
    "    elif tall == 15 and valg == \"N\":\n",
    "         return print(\"Du kan få minipris, men ønsker ikke det. Da tilbyr vi fullpris: 440,-\")\n",
    "    elif tall == 10:\n",
    "        return print(\"Minipris ikke lenger tilgjengelig, du må betale fullpris: 440,-\")\n",
    "    \n",
    "bilettpris(10, \"J\")\n",
    "bilettpris(15, \"J\")\n",
    "bilettpris(15, \"N\")\n"
   ]
  },
  {
   "cell_type": "markdown",
   "metadata": {
    "deletable": false,
    "editable": false,
    "run_control": {
     "frozen": true
    }
   },
   "source": [
    "## Oppgave c: frivillig"
   ]
  },
  {
   "cell_type": "markdown",
   "metadata": {
    "deletable": false,
    "run_control": {
     "frozen": true
    }
   },
   "source": [
    "Det blir besluttet at barn under 16 gis 50% rabatt. Senior (60+), militær i uniform, og student gis 25% rabatt. Om man f.eks. både er 60+ og militær / student, får man likevel bare 25% rabatt. Alle disse rabattene gjelder kun i forhold til fullpris, for minipris gis ingen rabatter. Endre funksjonen så kunder må gi informasjon om alder, evt. også om student / militær, og regner ut riktig pris.\n",
    "\n",
    "Eksempel på kjøring av koden:\n",
    "\n",
    "  \n",
    "```python\n",
    ">>>billettpris(15, 'J', 'militær')\n",
    "\n",
    "Du kan få minipris og ønsker dette, billettpris: 199,-\n",
    "```\n",
    "\n",
    "```python\n",
    ">>>billettpris(15, 'N', 'militær')\n",
    "\n",
    "Du kan få minipris, men ønsker ikke det. Du får rabatt grunnet at du er militær - billettpris: 330,-\n",
    "```\n",
    "\n",
    "```python\n",
    ">>>billettpris(10, 'N', 'barn')\n",
    "\n",
    "Du kan ikke få minipris. Du får rabatt grunnet at du er barn - billettpris: 220,-\n",
    "```"
   ]
  },
  {
   "cell_type": "code",
   "execution_count": 10,
   "metadata": {},
   "outputs": [
    {
     "name": "stdout",
     "output_type": "stream",
     "text": [
      "Minipris ikke lenger tilgjengelig, du må betale fullpris: 440,-\n",
      "Du kan få minipris: 199,-\n",
      "Du kan få minipris, men ønsker ikke det. Du får rabatt grunnet at du er militær - billettpris: 330,-\n",
      "Du kan få minipris, men ønsker ikke det. Du får rabatt grunnet at du er student - billettpris: 330,-\n",
      "Du kan få minipris, men ønsker ikke det. Du får rabatt grunnet at du er senior - billettpris: 330,-\n",
      "Du kan få minipris, men ønsker ikke det. Du får rabatt grunnet at du er barn - billettpris: 220,-\n"
     ]
    }
   ],
   "source": [
    "def bilettpris(tall, valg, situasjon):\n",
    "    if tall == 15 and valg == \"J\":\n",
    "        return print(\"Du kan få minipris: 199,-\")\n",
    "    elif tall == 10:\n",
    "        return print(\"Minipris ikke lenger tilgjengelig, du må betale fullpris: 440,-\")\n",
    "    elif tall == 15 and valg == \"N\" and situasjon == \"militær\":\n",
    "        return print(\"Du kan få minipris, men ønsker ikke det. Du får rabatt grunnet at du er militær - billettpris: 330,-\")\n",
    "    elif tall == 15 and valg == \"N\" and situasjon == \"student\":\n",
    "        return print(\"Du kan få minipris, men ønsker ikke det. Du får rabatt grunnet at du er student - billettpris: 330,-\")\n",
    "    elif tall == 15 and valg == \"N\" and situasjon == \"senior\":\n",
    "        return print(\"Du kan få minipris, men ønsker ikke det. Du får rabatt grunnet at du er senior - billettpris: 330,-\")\n",
    "    elif tall == 15 and valg == \"N\" and situasjon == \"barn\":\n",
    "        return print(\"Du kan få minipris, men ønsker ikke det. Du får rabatt grunnet at du er barn - billettpris: 220,-\")\n",
    "    elif tall == 15 and valg == \"N\":\n",
    "         return print(\"Du kan få minipris, men ønsker ikke det. Da tilbyr vi fullpris: 440,-\")\n",
    "    \n",
    "bilettpris(10, \"J\", \"militær\")\n",
    "bilettpris(15, \"J\", \"militær\")\n",
    "bilettpris(15, \"N\", \"militær\")\n",
    "bilettpris(15, \"N\", \"student\")\n",
    "bilettpris(15, \"N\", \"senior\")\n",
    "bilettpris(15, \"N\", \"barn\")\n",
    "\n",
    "    "
   ]
  },
  {
   "cell_type": "markdown",
   "metadata": {
    "deletable": false,
    "editable": false,
    "run_control": {
     "frozen": true
    }
   },
   "source": [
    "## Oppgave d: frivillig"
   ]
  },
  {
   "cell_type": "markdown",
   "metadata": {
    "deletable": false,
    "run_control": {
     "frozen": true
    }
   },
   "source": [
    "Du får godkjent oppgaven om du bare har klart a, b og delvis c, men prøv gjerne på denne litt vanskeligere d også.\n",
    "\n",
    "Etter lobbyvirksomhet fra studentorganisasjoner endres reglene på følgende måte: Studenter får også litt rabatt på miniprisbilletter (10%),  samt at personer som både er studenter og militære  / 60+, eller studenter og barn, får to rabatter, og dermed bare betaler 0,75 * 0,75 eller 0.75 * 0.5 av fullpris. Merk at personer som er 60+ og militære, men ikke studenter, eller barn og militære, men ikke studenter, ikke får noen slik multiplisert rabatt, de må fortsatt nøye seg med den ene rabatten de hadde før, og de vanlige 199 for minipris. Endre funksjonen så den fungerer korrekt gitt de nye reglene."
   ]
  },
  {
   "cell_type": "code",
   "execution_count": null,
   "metadata": {},
   "outputs": [],
   "source": [
    "def bilettpris(tall, valg, situasjon):\n",
    "    if tall == 10:\n",
    "        return print(\"Minipris ikke lenger tilgjengelig, du må betale fullpris: 440,-\")\n",
    "    elif tall == 15 and valg == \"N\" and situasjon == \"militær\":\n",
    "        return print(\"Du kan få minipris, men ønsker ikke det. Du får rabatt grunnet at du er militær - billettpris: 330,-\")\n",
    "    elif tall == 15 and valg == \"N\" and situasjon == \"student\":\n",
    "        return print(\"Du kan få minipris, men ønsker ikke det. Du får rabatt grunnet at du er student - billettpris: 330,-\")\n",
    "    elif tall == 15 and valg == \"N\" and situasjon == \"senior\":\n",
    "        return print(\"Du kan få minipris, men ønsker ikke det. Du får rabatt grunnet at du er senior - billettpris: 330,-\")\n",
    "    elif tall == 15 and valg == \"N\" and situasjon == \"barn\":\n",
    "        return print(\"Du kan få minipris, men ønsker ikke det. Du får rabatt grunnet at du er barn - billettpris: 220,-\")\n",
    "    elif tall == 15 and valg == \"N\":\n",
    "         return print(\"Du kan få minipris, men ønsker ikke det. Da tilbyr vi fullpris: 440,-\")\n",
    "    elif tall == 15 and valg == \"J\" and situasjon == \"student\":\n",
    "        return print(\"Du kan få minipris med studentrabatt: 179,-\")\n",
    "    elif tall == 15 and valg == \"J\":\n",
    "        return print(\"Du kan få minipris: 199,-\")"
   ]
  }
 ],
 "metadata": {
  "celltoolbar": "Edit Metadata",
  "kernelspec": {
   "display_name": "Python 3",
   "language": "python",
   "name": "python3"
  },
  "language_info": {
   "codemirror_mode": {
    "name": "ipython",
    "version": 3
   },
   "file_extension": ".py",
   "mimetype": "text/x-python",
   "name": "python",
   "nbconvert_exporter": "python",
   "pygments_lexer": "ipython3",
   "version": "3.11.4"
  },
  "toc": {
   "base_numbering": 1,
   "nav_menu": {},
   "number_sections": false,
   "sideBar": true,
   "skip_h1_title": false,
   "title_cell": "Table of Contents",
   "title_sidebar": "Contents",
   "toc_cell": false,
   "toc_position": {},
   "toc_section_display": true,
   "toc_window_display": false
  }
 },
 "nbformat": 4,
 "nbformat_minor": 2
}
