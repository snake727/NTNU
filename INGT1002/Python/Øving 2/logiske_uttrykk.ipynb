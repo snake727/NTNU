{
 "cells": [
  {
   "attachments": {},
   "cell_type": "markdown",
   "metadata": {},
   "source": [
    "# Logiske uttrykk\n",
    "\n",
    "Et logisk uttrykk er en kombinasjon av variabler, konstanter og operatorer som resulterer i en sannhetsverdi, enten **True** eller **False**. Logiske uttrykk brukes i programmering til å evaluere om gitte betingelser er sanne eller falske, og kan brukes til å styre utførelsen av kodeblokker ved hjelp av betingede uttalelser.\n",
    "\n",
    "\n",
    "Logiske uttrykk består vanligvis av en eller flere betingelser som blir sammenlignet ved hjelp av logiske operatorer som **and**, **or** og **not**. Disse operatorer kan brukes til å kombinere betingelser og uttrykk på en logisk måte."
   ]
  },
  {
   "cell_type": "code",
   "execution_count": null,
   "metadata": {},
   "outputs": [],
   "source": [
    "x = 5\n",
    "y = 10\n",
    "\n",
    "# Sammenligning av verdier\n",
    "x == y     # False\n",
    "x < y      # True\n",
    "x >= y     # False\n",
    "\n",
    "# Bruk av logiske operatorer\n",
    "x < 10 and y > 5    # True\n",
    "x < 10 or y < 5     # True\n",
    "not(x < 10 and y > 5)   # False"
   ]
  },
  {
   "cell_type": "code",
   "execution_count": null,
   "metadata": {},
   "outputs": [],
   "source": [
    "# Vi kan lagre resulatet av et logisk uttrykk i en variabel\n",
    "resultat = x == y     # False\n",
    "resultat = x < y      # True\n",
    "resultat = x >= y     # False\n",
    "\n",
    "# Bruk av logiske operatorer\n",
    "resultat = x < 10 and y > 5    # True\n",
    "resultat = x < 10 or y < 5     # True\n",
    "resultat = not(x < 10 and y > 5)   # False"
   ]
  },
  {
   "cell_type": "code",
   "execution_count": null,
   "metadata": {},
   "outputs": [],
   "source": [
    "# Avansert uttrykk\n",
    "# I dette eksemplet brukes betingelsene til å sjekke om verdien av x er mellom verdiene av y og z. \n",
    "# Hvis uttrykket er sant, vil programmet skrive ut \"x is between y and z\", ellers vil det skrive ut \"x is not between y and z\".\n",
    "x = 10\n",
    "y = 5\n",
    "z = 7\n",
    "\n",
    "if x > y and x < z or x > z and x < y:\n",
    "    print(\"x is between y and z\")\n",
    "else:\n",
    "    print(\"x is not between y and z\")"
   ]
  },
  {
   "attachments": {},
   "cell_type": "markdown",
   "metadata": {},
   "source": [
    "## Oppgave a: obligatorisk\n",
    "Skriv et Python-program som ber brukeren om å oppgi to heltall og sjekker om det første tallet er større enn det andre tallet. Programmet skal skrive ut en melding som sier om uttalelsen er sann eller falsk."
   ]
  },
  {
   "cell_type": "code",
   "execution_count": 2,
   "metadata": {},
   "outputs": [
    {
     "name": "stdout",
     "output_type": "stream",
     "text": [
      "Tall 1 er større enn tall 2\n"
     ]
    }
   ],
   "source": [
    "tall1 = input(\"Skriv inn et tall: \")\n",
    "tall2 = input(\"Skriv inn et tall: \")\n",
    "\n",
    "if tall1 > tall2:\n",
    "    print(\"Tall 1 er større enn tall 2\")\n",
    "elif tall1 < tall2:\n",
    "    print(\"Tall 2 er større enn tall 1\")\n",
    "\n"
   ]
  },
  {
   "attachments": {},
   "cell_type": "markdown",
   "metadata": {},
   "source": [
    "## Oppgave b: obligatorisk\n",
    "\n",
    "Skriv et Python-program som ber brukeren om å oppgi alder og kjønn. Hvis bruker oppgir alder større eller lik 62 og kjønn lik KVINNE, skal programmet skrive ut meldingen \"Betingelsen er oppfylt!\", ellers skal det skrive ut meldingen \"Betingelsen er ikke oppfylt!\"."
   ]
  },
  {
   "cell_type": "code",
   "execution_count": 6,
   "metadata": {},
   "outputs": [
    {
     "name": "stdout",
     "output_type": "stream",
     "text": [
      "Betingelsen er oppfylt!\n"
     ]
    }
   ],
   "source": [
    "alder = int(input(\"Skriv inn din alder: \"))\n",
    "kjønn = input(\"Skriv inn ditt kjønn: \")\n",
    "\n",
    "if alder >= 62 and kjønn == \"kvinne\":\n",
    "    print(\"Betingelsen er oppfylt!\")\n",
    "else:\n",
    "    print(\"Betingelsen er ikke oppfylt!\")"
   ]
  },
  {
   "attachments": {},
   "cell_type": "markdown",
   "metadata": {},
   "source": [
    "## Oppgave c: frivillig\n",
    "\n",
    "I en butikk ønsker man å tilby rabatt på varer basert på kundenes kjøpshistorikk. Hvis en kunde har kjøpt varer for mer enn 1000 kroner i løpet av de siste 30 dagene, skal kunden få 10% rabatt på alle varer ved neste kjøp. Hvis en kunde har kjøpt varer for mer enn 5000 kroner i løpet av de siste 30 dagene, skal kunden få 20% rabatt på alle varer ved neste kjøp. Skriv et Python-program som tar inn en liste med kundenes kjøpshistorikk og gir rabatt basert på reglene beskrevet over.\n",
    "\n",
    "TIPS: Her kan du importere **date** og **datetime** from pakken **datetime** samt å lage en liste purchase_history og loope gjennom det (for-løkke: dette er tema for neste forelesning, men du kan søke på nettet og lære om hvordan du bruker for-løkke i Python)"
   ]
  },
  {
   "cell_type": "code",
   "execution_count": 24,
   "metadata": {},
   "outputs": [
    {
     "name": "stdout",
     "output_type": "stream",
     "text": [
      "Du får 20% rabatt!\n"
     ]
    }
   ],
   "source": [
    "def discount(customerhistory):\n",
    "    sum = 0\n",
    "    for item in customerhistory:\n",
    "        sum += item\n",
    "    if sum > 1000 and sum < 5000:\n",
    "        discount = 0.1\n",
    "    elif sum > 5000:\n",
    "        discount = 0.2\n",
    "    else:\n",
    "        discount = 0\n",
    "    return discount\n",
    "\n",
    "customerhistory = ([100, 200, 300, 400, 500, 600, 700, 800, 900, 1000])\n",
    "\n",
    "if discount(customerhistory) == 0.1:\n",
    "    print(\"Du får 10% rabatt!\")\n",
    "elif discount(customerhistory) == 0.2:\n",
    "    print(\"Du får 20% rabatt!\")\n",
    "else:\n",
    "    print(\"Du får ingen rabatt!\")"
   ]
  }
 ],
 "metadata": {
  "kernelspec": {
   "display_name": "Python 3",
   "language": "python",
   "name": "python3"
  },
  "language_info": {
   "codemirror_mode": {
    "name": "ipython",
    "version": 3
   },
   "file_extension": ".py",
   "mimetype": "text/x-python",
   "name": "python",
   "nbconvert_exporter": "python",
   "pygments_lexer": "ipython3",
   "version": "3.11.4"
  },
  "orig_nbformat": 4
 },
 "nbformat": 4,
 "nbformat_minor": 2
}
