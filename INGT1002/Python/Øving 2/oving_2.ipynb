{
 "cells": [
  {
   "cell_type": "markdown",
   "metadata": {
    "deletable": false,
    "run_control": {
     "frozen": true
    }
   },
   "source": [
    "# Øving 2\n",
    "\n",
    "**Læringsmål:**\n",
    "\n",
    "- If-setninger, hvorfor og hvordan\n",
    "- Betingelser, Logiske uttrykk\n",
    "- Funksjoner\n",
    " \n",
    "\n",
    "## Godkjenning:\n",
    "\n",
    "For å få godkjent øvingen må du gjøre minimum de obligatoriske oppgavene under [logiske uttrykk](logiske_uttrykk.ipynb), [betingede funksjoner](betingede_funksjoner.ipynb), [ulike typer if-setninger](ulike_typer_if-setninger.ipynb), [andregradsligningen](andregradsligning.ipynb) og [sammenligning av strenger](sammenligning_av_strenger.ipynb). \n",
    "\n",
    "\n",
    "## Oppgaver\n",
    "\n",
    "- [Logiske uttrykk](logiske_uttrykk.ipynb)\n",
    "- [Betingede funksjoner](betingede_funksjoner.ipynb)\n",
    "- [Ulike typer if-setninger](ulike_typer_if-setninger.ipynb)\n",
    "- [Andregradsligning](andregradsligning.ipynb)\n",
    "- [Billettpriser og rabatter](billettpriser_og_rabatter.ipynb)\n",
    "- [Plotting](plotting.ipynb)\n",
    "- [Sammenligning av strenger](sammenligning_av_strenger.ipynb)"
   ]
  }
 ],
 "metadata": {
  "celltoolbar": "Edit Metadata",
  "kernelspec": {
   "display_name": "Python 3",
   "language": "python",
   "name": "python3"
  },
  "language_info": {
   "codemirror_mode": {
    "name": "ipython",
    "version": 3
   },
   "file_extension": ".py",
   "mimetype": "text/x-python",
   "name": "python",
   "nbconvert_exporter": "python",
   "pygments_lexer": "ipython3",
   "version": "3.9.2"
  },
  "toc": {
   "base_numbering": 1,
   "nav_menu": {},
   "number_sections": false,
   "sideBar": true,
   "skip_h1_title": false,
   "title_cell": "Table of Contents",
   "title_sidebar": "Contents",
   "toc_cell": false,
   "toc_position": {},
   "toc_section_display": true,
   "toc_window_display": false
  }
 },
 "nbformat": 4,
 "nbformat_minor": 2
}
