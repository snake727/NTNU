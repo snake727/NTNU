{
 "cells": [
  {
   "cell_type": "markdown",
   "id": "quantitative-retrieval",
   "metadata": {},
   "source": [
    "# Betingede funksjoner\n",
    "\n",
    "**Læringsmål:**\n",
    "\n",
    "- Betingelser\n",
    "- Funksjoner\n",
    "\n",
    "Først importerer vi et nødvendig eksternt bibliotek, `numpy` som vi kommer til å benytte til matematiske beregninger i denne oppgaven. "
   ]
  },
  {
   "cell_type": "code",
   "execution_count": 1,
   "id": "divided-boston",
   "metadata": {},
   "outputs": [],
   "source": [
    "import numpy as np\n",
    "import math"
   ]
  },
  {
   "cell_type": "markdown",
   "id": "stretch-mexican",
   "metadata": {},
   "source": [
    "I den matematiske verden er det en rekke funksjoner som har ulike funksjonsuttrykk for ulike input-verdier. Den naturlige logaritmen $ln(x)$ er definert for alle reelle verdier større enn 0. Dette kan skrives som følger:\n",
    "\n",
    "$ f(x) = \\begin{cases} ln(x), \\text{ if } x > 0\\\\ \\text{undef.}, \\text{ if } x \\leqslant 0 \\end{cases}$\n",
    "\n",
    "I Python kan vi håndtere dette ved å undersøke hvilken input som gis til funksjonen, og returnere den riktige verdien, slik det er gjort i eksempelet nedenfor."
   ]
  },
  {
   "cell_type": "code",
   "execution_count": 2,
   "id": "comprehensive-queue",
   "metadata": {},
   "outputs": [],
   "source": [
    "def f(x):\n",
    "    if x <= 0:\n",
    "        return\n",
    "    return np.log(x)"
   ]
  },
  {
   "cell_type": "code",
   "execution_count": 3,
   "id": "freelance-invitation",
   "metadata": {},
   "outputs": [],
   "source": [
    "# Dersom vi gir en negativ verdi som input, forventer vi tom output\n",
    "f(-2)"
   ]
  },
  {
   "cell_type": "code",
   "execution_count": 4,
   "id": "turkish-daughter",
   "metadata": {},
   "outputs": [
    {
     "data": {
      "text/plain": [
       "1.0"
      ]
     },
     "execution_count": 4,
     "metadata": {},
     "output_type": "execute_result"
    }
   ],
   "source": [
    "# Dersom vi gir en positiv verdi, forventer vi at denne skal være lik den naturlige logaritmen som output\n",
    "f(math.e)"
   ]
  },
  {
   "cell_type": "markdown",
   "id": "biological-lingerie",
   "metadata": {},
   "source": [
    "## Oppgave a: obligatorisk\n",
    "\n",
    "Som kjent er det en dårlig idé å dele på 0 i matematikken. I denne oppgaven skal du implementere en funksjon som genererer riktig output for den matematiske funksjonen for alle verdier av $x$, der $f(x) = 0$ når $x = 0$:\n",
    "\n",
    "$f(x) = x^2 sin(\\frac{1}{x})$\n",
    "\n",
    "**Skriv koden din her:**"
   ]
  },
  {
   "cell_type": "code",
   "execution_count": 2,
   "id": "viral-objective",
   "metadata": {},
   "outputs": [
    {
     "name": "stdout",
     "output_type": "stream",
     "text": [
      "0\n",
      "-0.8414709848078965\n",
      "0.8414709848078965\n"
     ]
    }
   ],
   "source": [
    "import math\n",
    "\n",
    "def f(x):\n",
    "    if x == 0:\n",
    "        return 0\n",
    "    x = (x ** 2) * math.sin(1/x)\n",
    "    return x\n",
    "\n",
    "print(f(0))\n",
    "\n",
    "print(f(-1))\n",
    "\n",
    "print(f(1))"
   ]
  },
  {
   "cell_type": "markdown",
   "id": "focused-secondary",
   "metadata": {},
   "source": [
    "## Oppgave b: obligatorisk\n",
    "Beregning av en fallskjermhoppers hastighet\n",
    "\n",
    "I denne oppgaven skal det implementeres en funksjon for å returnere hastigheten til en fallskjermhopper før fallskjermen utløses som en funksjon av hvor lenge det er siden hopperen forlot flyet. Vi antar at det er to tilfeller:\n",
    "\n",
    "1. Perioden før hopperen når sin terminalfart\n",
    "2. Perioden når hopperen beveger seg i terminalfart\n",
    "\n",
    "**Perioden før terminalfart:**\n",
    "Ved $t=0$ antar vi at farten er 0. Deretter er det en lineær sammenheng mellom tiden og hastigheten, denne sammenhengen er gitt ved forenklede ligningen:\n",
    "\n",
    "$ v(t) = t \\cdot g$\n",
    "\n",
    "Der $g$ er tyngdeakselerasjonen (nøyaktighet på en desimalplass er tilstrekkelig) og $t$ er tiden siden hoppet startet.\n",
    "\n",
    "**Perioden etter terminalhastighet er oppnådd:**\n",
    "For enkelhets skyld antar vi at alle hoppere, uavhengig av vekt, oppnår terminalhastighet etter like lang tid, nemlig etter $t=10$. Hastigheten til hopperen etter dette er tidsuavhengig, og er gitt ved ligningen:\n",
    "\n",
    "$v_{terminal} = 10 \\cdot g$\n",
    "\n",
    "Du skal skrive en funksjon som tar inn et tidspunkt, og returnerer hastigheten til hopperen på det gitte tidspunktet.\n",
    "\n",
    "**Skriv koden din her:**"
   ]
  },
  {
   "cell_type": "code",
   "execution_count": 38,
   "id": "altered-symphony",
   "metadata": {},
   "outputs": [],
   "source": [
    "def hastighet(tid):\n",
    "    if tid <= 0:\n",
    "        return 0\n",
    "    if tid <= 10:\n",
    "        return round(9.81 * tid)\n",
    "    return 98"
   ]
  },
  {
   "cell_type": "markdown",
   "id": "leading-depth",
   "metadata": {},
   "source": [
    "Under kan du undersøke om funksjonen du har skrevet fungerer som den skal:"
   ]
  },
  {
   "cell_type": "code",
   "execution_count": 39,
   "id": "portable-serum",
   "metadata": {},
   "outputs": [
    {
     "name": "stdout",
     "output_type": "stream",
     "text": [
      "49\n",
      "Riktig svar: 49 m/s\n",
      "0\n",
      "Riktig svar: 0 m/s\n",
      "98\n",
      "Riktig svar: 98 m/s\n",
      "98\n",
      "Riktig svar: 98 m/s\n"
     ]
    }
   ],
   "source": [
    "print(hastighet(5))\n",
    "print(\"Riktig svar: 49 m/s\")\n",
    "\n",
    "print(hastighet(0))\n",
    "print(\"Riktig svar: 0 m/s\")\n",
    "\n",
    "print(hastighet(15))\n",
    "print(\"Riktig svar: 98 m/s\")\n",
    "\n",
    "print(hastighet(10))\n",
    "print(\"Riktig svar: 98 m/s\")"
   ]
  }
 ],
 "metadata": {
  "celltoolbar": "Edit Metadata",
  "kernelspec": {
   "display_name": "Python 3",
   "language": "python",
   "name": "python3"
  },
  "language_info": {
   "codemirror_mode": {
    "name": "ipython",
    "version": 3
   },
   "file_extension": ".py",
   "mimetype": "text/x-python",
   "name": "python",
   "nbconvert_exporter": "python",
   "pygments_lexer": "ipython3",
   "version": "3.11.4"
  }
 },
 "nbformat": 4,
 "nbformat_minor": 5
}
